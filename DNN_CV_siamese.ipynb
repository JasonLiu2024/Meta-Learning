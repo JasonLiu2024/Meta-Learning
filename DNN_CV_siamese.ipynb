{
 "cells": [
  {
   "attachments": {},
   "cell_type": "markdown",
   "id": "5f724513",
   "metadata": {},
   "source": [
    "# **run load_data.ipynb BEFORE running this!**"
   ]
  },
  {
   "cell_type": "code",
   "execution_count": 10,
   "id": "a5ca00eb",
   "metadata": {},
   "outputs": [
    {
     "name": "stdout",
     "output_type": "stream",
     "text": [
      "read data from data_normalized.pickle\n",
      "shape of spectrum data: (6000, 10000)\n",
      "shape of temperature data: (6000, 1)\n",
      "\n",
      "there are 6000 spectrums\n",
      "each spectrum is 10000 long\n"
     ]
    }
   ],
   "source": [
    "import pickle\n",
    "import os.path\n",
    "import numpy as np\n",
    "normalized_data_file_name = 'data_normalized'\n",
    "with open(normalized_data_file_name + '.pickle', 'rb') as handle:\n",
    "    spectrum, temperature = pickle.load(handle)\n",
    "    print(f\"read data from {normalized_data_file_name}.pickle\")\n",
    "print(f\"shape of spectrum data: {spectrum.shape}\")\n",
    "print(f\"shape of temperature data: {temperature.shape}\")\n",
    "print()\n",
    "print(f\"there are {temperature.shape[0]} spectrums\")\n",
    "print(f\"each spectrum is {spectrum.shape[1]} long\")"
   ]
  },
  {
   "cell_type": "code",
   "execution_count": 11,
   "id": "8584e134",
   "metadata": {},
   "outputs": [
    {
     "name": "stdout",
     "output_type": "stream",
     "text": [
      "got indices from cross_validation_resample=2_fold=5.pickle\n",
      "\n",
      "sets of training indices: 10\n",
      "number of training indices per set: 4800\n",
      "sets of testing indices: 10\n",
      "number of testing indices per set: 1200\n"
     ]
    }
   ],
   "source": [
    "indices_file_name = 'cross_validation_resample=2_fold=5'\n",
    "with open(indices_file_name + '.pickle', 'rb') as handle:\n",
    "    train_indices, test_indices = pickle.load(handle)\n",
    "    print(f\"got indices from {indices_file_name}.pickle\")  \n",
    "print()\n",
    "print(f\"sets of training indices: {len(train_indices)}\")\n",
    "print(f\"number of training indices per set: {len(train_indices[0])}\")\n",
    "print(f\"sets of testing indices: {len(test_indices)}\")\n",
    "print(f\"number of testing indices per set: {len(test_indices[0])}\")"
   ]
  },
  {
   "cell_type": "code",
   "execution_count": 12,
   "id": "9f0a47aa",
   "metadata": {},
   "outputs": [
    {
     "name": "stdout",
     "output_type": "stream",
     "text": [
      "input dimension is: 10000\n"
     ]
    }
   ],
   "source": [
    "input_dimension = spectrum.shape[1]\n",
    "print(f\"input dimension is: {input_dimension}\")"
   ]
  },
  {
   "cell_type": "code",
   "execution_count": 13,
   "id": "e11a5496-4ebb-4ea9-a759-26481d1fb849",
   "metadata": {},
   "outputs": [],
   "source": [
    "import torch\n",
    "import torch.nn as nn\n",
    "# change: input dim = 1000, output dim = 1 (temperature value)\n",
    "class SiameseModel(torch.nn.Module):\n",
    "    def __init__(self, device, input_dim=input_dimension):\n",
    "        super().__init__()\n",
    "        self.relu  = nn.ReLU()\n",
    "        self.hidden_dim = 500\n",
    "        self.linear1 = torch.nn.Linear(input_dim, self.hidden_dim)\n",
    "        self.linear2 = torch.nn.Linear(self.hidden_dim, self.hidden_dim)\n",
    "        self.linear3 = torch.nn.Linear(self.hidden_dim, 1)\n",
    "        self.device = device\n",
    "        self.to(device)\n",
    "    def forward_siamese(self, x):\n",
    "        y = self.linear3(self.relu(self.linear2(self.relu(self.linear1(x)))))\n",
    "        return y\n",
    "    def forward(self, input):\n",
    "        # print(f\"SiameseModel: input shape: {input.shape}\")\n",
    "        # in training, input shape is: \n",
    "        #   [batch size, number of inputs * input dim 1, input dim 2]\n",
    "        #   e.g. [32, 2, 1000]\n",
    "        # in actually using, input shape would be:\n",
    "        #   [input dim 2] (in our example, input is 1*1000)\n",
    "        # in classification, we don't need the network used to generated embedding\n",
    "        #   we just need the final result, which is the network's \n",
    "        #   output through contrastive loss network\n",
    "        # here, we DO need the output, which is just one number!\n",
    "        if(input.dim() == 3): # <- training\n",
    "            # input is tensor of [x1, x2]\n",
    "            x1 = input[:,0,:] \n",
    "            x2 = input[:,1,:]\n",
    "            # print(f\"SiameseModel: \")\n",
    "            # print(f\"x1 = {x1}, shape{x1.shape}\")\n",
    "            # print(f\"x2 = {x2}, shape{x2.shape}\")\n",
    "            y1 = self.forward_siamese(x1)\n",
    "            y2 = self.forward_siamese(x2)\n",
    "            # print(f\"SiameseModel: y1 = {y1}, y2 = {y2}\")\n",
    "            # change: remove sigmoid, use y result as is\n",
    "            # y = torch.sigmoid(y)\n",
    "            difference = y1 - y2 # <- order matter, no absolute value!\n",
    "            return difference\n",
    "        else: # <- actually using: \n",
    "            # input is just x\n",
    "            y = self.forward_siamese(input)\n",
    "            return y"
   ]
  },
  {
   "cell_type": "code",
   "execution_count": 14,
   "id": "1ee642ca",
   "metadata": {},
   "outputs": [],
   "source": [
    "import random\n",
    "# reference:\n",
    "# https://colab.research.google.com/github/maticvl/dataHacker/\n",
    "# blob/master/pyTorch/014_siameseNetwork.ipynb#scrollTo=gD1BFFm_z7aj\n",
    "class SiameseDataset(torch.utils.data.TensorDataset):\n",
    "    def __init__(self, X, y):\n",
    "        # subset_X_IDs: e.g. only use mth to nth examples to train\n",
    "        self.X, self.y = X, y\n",
    "        self.indices = range(len(y))\n",
    "    # length: number of elements in subset of X_IDs\n",
    "    def __len__(self):\n",
    "        return len(self.y)\n",
    "    # get item by index in [m, n]\n",
    "    def __getitem__(self, index): # assume index lies within subset_X_IDs\n",
    "        # property: randomly sample two inputs,\n",
    "        # return: the two inputs, \n",
    "        #   and binary label for whethery they have same class\n",
    "        input_1_id = index\n",
    "        input_1 = self.X[input_1_id]\n",
    "        label_1 = self.y[input_1_id]\n",
    "        input_2_id = random.choice(self.indices)\n",
    "        input_2 = self.X[input_2_id]\n",
    "        label_2 = self.y[input_2_id]\n",
    "        difference = label_1 - label_2 # order matter!\n",
    "        # turn into array BEFORE turning into tensor?\n",
    "        #   going from list to tensor is slow\n",
    "        #   going from array to tensor is fast\n",
    "        # in this implementation, input (see initialization) already on cuda device\n",
    "        # turning into array actually needs moving into cpu first\n",
    "        # so just do: list of tensor -> tensor\n",
    "        #   which is torch.stack\n",
    "        return torch.stack([input_1, input_2]), difference"
   ]
  },
  {
   "cell_type": "code",
   "execution_count": 15,
   "id": "17847f0f-c9ae-49a7-a84d-e6f82f5cef6f",
   "metadata": {},
   "outputs": [],
   "source": [
    "from torch.utils.data import DataLoader\n",
    "from torch import optim\n",
    "import numpy as np\n",
    "device = torch.device(\"cuda\" if torch.cuda.is_available() else \"cpu\")\n",
    "class CalculateMSE():\n",
    "    def __init__(self, net, n_epochs, batch_size):\n",
    "        super().__init__()\n",
    "        self.net = net\n",
    "        #initialize some constants\n",
    "        self.batch_size = 32\n",
    "        self.learning_rate = 1e-4\n",
    "        self.n_epochs = n_epochs\n",
    "        self.net.apply(self.weights_init)   \n",
    "    def weights_init(self,layer):\n",
    "        if type(layer) == nn.Linear:\n",
    "            nn.init.orthogonal_(layer.weight)\n",
    "    def get_mse(self,train_data, train_label, test_data, test_label):\n",
    "        train_set = SiameseDataset(\n",
    "            torch.Tensor(train_data).to(device), \n",
    "            torch.Tensor(train_label).to(device))\n",
    "        val_set = SiameseDataset(\n",
    "            torch.Tensor(test_data).to(device), \n",
    "            torch.Tensor(test_label).to(device))\n",
    "        loader_args = dict(batch_size=self.batch_size)\n",
    "        train_loader = DataLoader(train_set, shuffle=True, drop_last=True, **loader_args)\n",
    "        val_loader = DataLoader(val_set, shuffle=True, drop_last=True, **loader_args)\n",
    "        tloss = []\n",
    "        vloss = []\n",
    "        criterion = nn.MSELoss()\n",
    "        optimizer = optim.Adam(self.net.parameters(), lr=self.learning_rate) # weight_decay=0\n",
    "        for epoch in range(0, self.n_epochs):\n",
    "            # if epoch % 1000 == 0:\n",
    "            #     print(f\"epoch = {epoch}\")\n",
    "            epoch_train_loss=[]\n",
    "            for i, data in enumerate(train_loader, 0):\n",
    "                inputs, label = data\n",
    "                y_pred = self.net(inputs.to(self.net.device))\n",
    "                loss = criterion(y_pred, label.to(self.net.device))\n",
    "                optimizer.zero_grad()\n",
    "                loss.backward()\n",
    "                optimizer.step()\n",
    "                epoch_train_loss.append(loss.item())\n",
    "            tloss.append(np.mean(epoch_train_loss))\n",
    "            epoch_loss=[]\n",
    "            for i, data in enumerate(val_loader, 0):\n",
    "                with torch.no_grad():\n",
    "                    inputs1, label1 = data\n",
    "                    y_pred1 = self.net(inputs1.to(self.net.device))\n",
    "                    loss1 = criterion(y_pred1, label1.to(self.net.device))\n",
    "                    epoch_loss.append(loss1.item())\n",
    "            vloss.append(np.mean(epoch_loss))\n",
    "        return np.min(vloss), self.net"
   ]
  },
  {
   "cell_type": "code",
   "execution_count": 16,
   "id": "a6361355-4b60-4910-b158-c54bd4016da2",
   "metadata": {},
   "outputs": [
    {
     "name": "stdout",
     "output_type": "stream",
     "text": [
      "number of epochs: 1, batch size: 32, device: cuda\n",
      "we are on fold no.0\n",
      "\tloss: 0.011823511367814767\n",
      "\ttime: 2023-05-19 19:43:35\n",
      "we are on fold no.1\n",
      "\tloss: 0.015360444607968265\n",
      "\ttime: 2023-05-19 19:43:37\n",
      "we are on fold no.2\n",
      "\tloss: 0.015916785476980982\n",
      "\ttime: 2023-05-19 19:43:38\n",
      "we are on fold no.3\n",
      "\tloss: 0.01806842487909504\n",
      "\ttime: 2023-05-19 19:43:39\n",
      "we are on fold no.4\n",
      "\tloss: 0.028112949098686914\n",
      "\ttime: 2023-05-19 19:43:41\n",
      "we are on fold no.5\n",
      "\tloss: 0.030776682687369553\n",
      "\ttime: 2023-05-19 19:43:42\n",
      "we are on fold no.6\n",
      "\tloss: 0.026183626337631327\n",
      "\ttime: 2023-05-19 19:43:43\n",
      "we are on fold no.7\n",
      "\tloss: 0.0132967991049628\n",
      "\ttime: 2023-05-19 19:43:44\n",
      "we are on fold no.8\n",
      "\tloss: 0.013775157830300363\n",
      "\ttime: 2023-05-19 19:43:46\n",
      "we are on fold no.9\n",
      "\tloss: 0.03180862787003453\n",
      "\ttime: 2023-05-19 19:43:47\n"
     ]
    }
   ],
   "source": [
    "from pathlib import Path\n",
    "from datetime import datetime\n",
    "# change: turn into 10 right now for development, was 3000\n",
    "n_epochs=1000\n",
    "batch_size=32\n",
    "\n",
    "PATH = 'model_siamese/'\n",
    "Path(PATH).mkdir(parents=True, exist_ok=True)\n",
    "device = torch.device(\"cuda\" if torch.cuda.is_available() else \"cpu\")\n",
    "\n",
    "# change: commented out: alraedy read in X, y data earlier\n",
    "# response = pd.read_csv(\"1127_final_data/response.csv\", header=None).values #input X\n",
    "# spectra = pd.read_csv(\"1127_final_data/spectra.csv\", header=None).values #ground truth label Y\n",
    "# change: input dim = 1000\n",
    "mdl = SiameseModel(device=device, input_dim=input_dimension)\n",
    "losses = []\n",
    "print(f\"number of epochs: {n_epochs}, batch size: {batch_size}, device: {mdl.device}\")\n",
    "\n",
    "f = open(\"log_siamese.txt\", \"w\")\n",
    "f.write(\"train START: \" + datetime.now().strftime(\"%Y-%m-%d %H:%M:%S\") + \"\\n\")\n",
    "f.write(f\"number of epochs: {n_epochs}, batch size: {batch_size}, device: {device}\\n\")\n",
    "for i,(train,test) in enumerate(zip(train_indices,test_indices)):\n",
    "    print(f\"we are on fold no.{i}\")\n",
    "    train_data, train_label= spectrum[train],temperature[train]\n",
    "    test_data, test_label= spectrum[test],temperature[test]\n",
    "    mse_calculator = CalculateMSE(mdl,n_epochs,batch_size)\n",
    "    loss,model = mse_calculator.get_mse(train_data, \n",
    "                                        train_label, \n",
    "                                        test_data, \n",
    "                                        test_label)\n",
    "    losses.append(loss)\n",
    "    print(f\"\\tloss: {loss}\")\n",
    "    print(\"\\ttime: \" + datetime.now().strftime(\"%Y-%m-%d %H:%M:%S\"))\n",
    "        \n",
    "    f.write(f\"fold = {i}\")\n",
    "    f.write(f\"\\tloss: {loss}\\n\")\n",
    "    f.write(\"\\ttime: \" + datetime.now().strftime(\"%Y-%m-%d %H:%M:%S\") +\"\\n\")\n",
    "\n",
    "    torch.save(model.state_dict(), PATH+'model_'+str(i))\n",
    "f.write(\"train END: \" + datetime.now().strftime(\"%Y-%m-%d %H:%M:%S\") + \"\\n\")\n",
    "f.close()"
   ]
  },
  {
   "cell_type": "code",
   "execution_count": 17,
   "id": "c388d3df-3754-4852-b39c-497b69f65682",
   "metadata": {},
   "outputs": [
    {
     "name": "stdout",
     "output_type": "stream",
     "text": [
      "mean losses: 0.020512300926084453, std: 0.007412684152474362\n"
     ]
    }
   ],
   "source": [
    "print(f\"mean losses: {np.mean(losses)}, std: {np.std(losses)}\")"
   ]
  },
  {
   "cell_type": "code",
   "execution_count": 18,
   "id": "50809583",
   "metadata": {
    "collapsed": true,
    "jupyter": {
     "outputs_hidden": true
    },
    "tags": []
   },
   "outputs": [
    {
     "name": "stdout",
     "output_type": "stream",
     "text": [
      "we use 344th example\n",
      "input shape: torch.Size([10000]), number of dimensions: 1\n",
      "\tthe prediction (normalized) is: -1.4608262777328491\n",
      "\tthe ground truth (normalized) is: -1.5849058664490416\n",
      "we use 621th example\n",
      "input shape: torch.Size([10000]), number of dimensions: 1\n",
      "\tthe prediction (normalized) is: -1.151224136352539\n",
      "\tthe ground truth (normalized) is: -1.5849058664490416\n",
      "we use 1125th example\n",
      "input shape: torch.Size([10000]), number of dimensions: 1\n",
      "\tthe prediction (normalized) is: -0.5595898628234863\n",
      "\tthe ground truth (normalized) is: -0.8138705800684255\n",
      "we use 1199th example\n",
      "input shape: torch.Size([10000]), number of dimensions: 1\n",
      "\tthe prediction (normalized) is: -0.5940682888031006\n",
      "\tthe ground truth (normalized) is: -0.8138705800684255\n",
      "we use 2835th example\n",
      "input shape: torch.Size([10000]), number of dimensions: 1\n",
      "\tthe prediction (normalized) is: 0.04583412781357765\n",
      "\tthe ground truth (normalized) is: -0.2998470558146845\n",
      "we use 3040th example\n",
      "input shape: torch.Size([10000]), number of dimensions: 1\n",
      "\tthe prediction (normalized) is: 0.6296048164367676\n",
      "\tthe ground truth (normalized) is: 0.4711882305659315\n",
      "we use 3580th example\n",
      "input shape: torch.Size([10000]), number of dimensions: 1\n",
      "\tthe prediction (normalized) is: 0.6557044386863708\n",
      "\tthe ground truth (normalized) is: 0.4711882305659315\n",
      "we use 3748th example\n",
      "input shape: torch.Size([10000]), number of dimensions: 1\n",
      "\tthe prediction (normalized) is: 0.7846543788909912\n",
      "\tthe ground truth (normalized) is: 0.4711882305659315\n",
      "we use 5291th example\n",
      "input shape: torch.Size([10000]), number of dimensions: 1\n",
      "\tthe prediction (normalized) is: 1.456089973449707\n",
      "\tthe ground truth (normalized) is: 1.2422235169465476\n",
      "we use 5574th example\n",
      "input shape: torch.Size([10000]), number of dimensions: 1\n",
      "\tthe prediction (normalized) is: 1.4580591917037964\n",
      "\tthe ground truth (normalized) is: 1.2422235169465476\n"
     ]
    }
   ],
   "source": [
    "number_figures = 10\n",
    "import matplotlib.pyplot as plt\n",
    "\n",
    "indices = torch.randint(0,len(spectrum),(number_figures,)).unique()\n",
    "for i in indices:\n",
    "    print(f\"we use {i}th example\")\n",
    "    # change: cast i to int, since pandas not work with torch.int64\n",
    "    # changed: removed figure, since the output is just one number\n",
    "    spec = np.asarray(spectrum[int(i)]).flatten()\n",
    "    temp = np.asarray(temperature[int(i)]).flatten()\n",
    "    # plt.figure(i)\n",
    "\n",
    "    input = torch.Tensor(np.asarray(spectrum[int(i)])).to(model.device)\n",
    "    print(f\"input shape: {input.shape}, number of dimensions: {input.dim()}\")\n",
    "    prediction = model(input).detach().cpu().flatten()\n",
    "    # plt.plot(prediction)\n",
    "    print(f\"\\tthe prediction (normalized) is: {prediction.item()}\")\n",
    "    # plt.plot(temp)\n",
    "    # plt.legend(['reconstruction','ground truth'])\n",
    "    print(f\"\\tthe ground truth (normalized) is: {temp.item()}\")\n"
   ]
  },
  {
   "attachments": {},
   "cell_type": "markdown",
   "id": "50f48ad5",
   "metadata": {},
   "source": [
    "# **skip cell 14 for now (it's in template file!)**"
   ]
  }
 ],
 "metadata": {
  "kernelspec": {
   "display_name": "Python 3 (ipykernel)",
   "language": "python",
   "name": "python3"
  },
  "language_info": {
   "codemirror_mode": {
    "name": "ipython",
    "version": 3
   },
   "file_extension": ".py",
   "mimetype": "text/x-python",
   "name": "python",
   "nbconvert_exporter": "python",
   "pygments_lexer": "ipython3",
   "version": "3.11.3"
  }
 },
 "nbformat": 4,
 "nbformat_minor": 5
}
