{
 "cells": [
  {
   "attachments": {},
   "cell_type": "markdown",
   "id": "baa7eda3",
   "metadata": {},
   "source": [
    "# **run load_data.ipynb BEFORE running this!**"
   ]
  },
  {
   "cell_type": "code",
   "execution_count": 20,
   "id": "a5ca00eb",
   "metadata": {},
   "outputs": [
    {
     "name": "stdout",
     "output_type": "stream",
     "text": [
      "read data from data_normalized.pickle\n",
      "shape of spectrum data: (6000, 10000)\n",
      "shape of temperature data: (6000, 1)\n",
      "\n",
      "there are 6000 spectrums\n",
      "each spectrum is 10000 long, which is number of features\n"
     ]
    }
   ],
   "source": [
    "import pickle\n",
    "import os.path\n",
    "import numpy as np\n",
    "normalized_data_file_name = 'data_normalized'\n",
    "with open(normalized_data_file_name + '.pickle', 'rb') as handle:\n",
    "    spectrum, temperature = pickle.load(handle)\n",
    "    print(f\"read data from {normalized_data_file_name}.pickle\")\n",
    "print(f\"shape of spectrum data: {spectrum.shape}\")\n",
    "print(f\"shape of temperature data: {temperature.shape}\")\n",
    "print()\n",
    "print(f\"there are {temperature.shape[0]} spectrums\")\n",
    "print(f\"each spectrum is {spectrum.shape[1]} long, which is number of features\")"
   ]
  },
  {
   "cell_type": "code",
   "execution_count": 13,
   "id": "6558b411",
   "metadata": {},
   "outputs": [
    {
     "name": "stdout",
     "output_type": "stream",
     "text": [
      "got indices from cross_validation_resample=2_fold=5.pickle\n",
      "\n",
      "sets of training indices: 10\n",
      "number of training indices per set: 4800\n",
      "sets of testing indices: 10\n",
      "number of testing indices per set: 1200\n"
     ]
    }
   ],
   "source": [
    "indices_file_name = 'cross_validation_resample=2_fold=5'\n",
    "with open(indices_file_name + '.pickle', 'rb') as handle:\n",
    "    train_indices, test_indices = pickle.load(handle)\n",
    "    print(f\"got indices from {indices_file_name}.pickle\")  \n",
    "print()\n",
    "print(f\"sets of training indices: {len(train_indices)}\")\n",
    "print(f\"number of training indices per set: {len(train_indices[0])}\")\n",
    "print(f\"sets of testing indices: {len(test_indices)}\")\n",
    "print(f\"number of testing indices per set: {len(test_indices[0])}\")"
   ]
  },
  {
   "cell_type": "code",
   "execution_count": 14,
   "id": "32990e34",
   "metadata": {},
   "outputs": [
    {
     "name": "stdout",
     "output_type": "stream",
     "text": [
      "input dimension is: 10000\n",
      "output dimension is: 1\n"
     ]
    }
   ],
   "source": [
    "input_dimension = spectrum.shape[1]\n",
    "print(f\"input dimension is: {input_dimension}\")\n",
    "output_dimension = temperature.shape[1]\n",
    "print(f\"output dimension is: {output_dimension}\")"
   ]
  },
  {
   "cell_type": "code",
   "execution_count": 15,
   "id": "e11a5496-4ebb-4ea9-a759-26481d1fb849",
   "metadata": {},
   "outputs": [],
   "source": [
    "import torch\n",
    "import torch.nn as nn\n",
    "class Model(torch.nn.Module):\n",
    "    def __init__(self, device, input_dim=input_dimension):\n",
    "        super().__init__()\n",
    "        self.relu  = nn.ReLU()\n",
    "        self.hidden_dim = 500\n",
    "        self.linear1 = torch.nn.Linear(input_dim, self.hidden_dim)\n",
    "        self.linear2 = torch.nn.Linear(self.hidden_dim, self.hidden_dim)\n",
    "        self.linear3 = torch.nn.Linear(self.hidden_dim, 1)\n",
    "        self.device = device\n",
    "        self.to(device)\n",
    "    def forward(self, x):\n",
    "        y = self.linear3(self.relu(self.linear2(self.relu(self.linear1(x)))))\n",
    "        # change: remove sigmoid, use y result as is\n",
    "        # y = torch.sigmoid(y)\n",
    "        return y"
   ]
  },
  {
   "cell_type": "code",
   "execution_count": 16,
   "id": "17847f0f-c9ae-49a7-a84d-e6f82f5cef6f",
   "metadata": {},
   "outputs": [],
   "source": [
    "from torch.utils.data import DataLoader\n",
    "from torch import optim\n",
    "import numpy as np\n",
    "\n",
    "loss_function = nn.MSELoss()\n",
    "\n",
    "device = torch.device(\"cuda\" if torch.cuda.is_available() else \"cpu\")\n",
    "class CalculateMSE():\n",
    "    def __init__(self, net, n_epochs, batch_size):\n",
    "        super().__init__()\n",
    "        self.net = net\n",
    "        #initialize some constants\n",
    "        self.batch_size = 32\n",
    "        self.learning_rate = 1e-4\n",
    "        self.n_epochs = n_epochs\n",
    "        self.net.apply(self.weights_init)   \n",
    "    def weights_init(self,layer):\n",
    "        if type(layer) == nn.Linear:\n",
    "            nn.init.orthogonal_(layer.weight)\n",
    "    def get_mse(self,train_data, train_label, test_data, test_label):\n",
    "        train_set = torch.utils.data.TensorDataset(\n",
    "            torch.Tensor(train_data).to(device), \n",
    "            torch.Tensor(train_label).to(device))\n",
    "        val_set = torch.utils.data.TensorDataset(\n",
    "            torch.Tensor(test_data).to(device), \n",
    "            torch.Tensor(test_label).to(device))\n",
    "        loader_args = dict(batch_size=self.batch_size)\n",
    "        train_loader = DataLoader(train_set, shuffle=True, drop_last=True, **loader_args)\n",
    "        val_loader = DataLoader(val_set, shuffle=True, drop_last=True, **loader_args)\n",
    "        train_loss = []\n",
    "        validate_loss = []\n",
    "        criterion = loss_function\n",
    "        optimizer = optim.Adam(self.net.parameters(), lr=self.learning_rate) # weight_decay=0\n",
    "        \n",
    "        for epoch in range(0, self.n_epochs):\n",
    "            # if epoch % 1000 == 0:\n",
    "            #     print(f\"epoch = {epoch}\")\n",
    "            epoch_train_loss=[]\n",
    "            for i, data in enumerate(train_loader, 0):\n",
    "                inputs, label = data\n",
    "                y_pred = self.net(inputs.to(self.net.device))\n",
    "                loss = criterion(y_pred, label.to(self.net.device))\n",
    "                optimizer.zero_grad()\n",
    "                loss.backward()\n",
    "                optimizer.step()\n",
    "                epoch_train_loss.append(loss.item())\n",
    "            train_loss.append(np.mean(epoch_train_loss))\n",
    "            # validation step: need to UN-normalize data!\n",
    "            epoch_loss=[]\n",
    "\n",
    "            for i, data in enumerate(val_loader, 0):\n",
    "                with torch.no_grad():\n",
    "                    inputs_validate, label_validate = data\n",
    "                    y_pred_validate = self.net(inputs_validate.to(self.net.device))\n",
    "                    loss_validate = criterion(y_pred_validate, label_validate.to(self.net.device)) # one number\n",
    "                    epoch_loss.append(loss_validate.item())\n",
    "            validate_loss.append(np.mean(epoch_loss))\n",
    "        return np.min(validate_loss), self.net"
   ]
  },
  {
   "cell_type": "code",
   "execution_count": 17,
   "id": "a6361355-4b60-4910-b158-c54bd4016da2",
   "metadata": {},
   "outputs": [
    {
     "name": "stdout",
     "output_type": "stream",
     "text": [
      "number of epochs: 1, batch size: 32, device: cuda\n",
      "we are on fold no.0\n",
      "\tloss: 0.18365182425524737\n",
      "\ttime: 2023-05-20 19:43:35\n",
      "we are on fold no.1\n",
      "\tloss: 0.20700642889415896\n",
      "\ttime: 2023-05-20 19:43:36\n",
      "we are on fold no.2\n",
      "\tloss: 0.18324313695366318\n",
      "\ttime: 2023-05-20 19:43:37\n",
      "we are on fold no.3\n",
      "\tloss: 0.310420638403377\n",
      "\ttime: 2023-05-20 19:43:39\n",
      "we are on fold no.4\n",
      "\tloss: 0.27960616148806905\n",
      "\ttime: 2023-05-20 19:43:40\n",
      "we are on fold no.5\n",
      "\tloss: 0.26498161417406957\n",
      "\ttime: 2023-05-20 19:43:41\n",
      "we are on fold no.6\n",
      "\tloss: 0.24355146470102104\n",
      "\ttime: 2023-05-20 19:43:42\n",
      "we are on fold no.7\n",
      "\tloss: 0.2159475313650595\n",
      "\ttime: 2023-05-20 19:43:44\n",
      "we are on fold no.8\n",
      "\tloss: 0.19530225243117358\n",
      "\ttime: 2023-05-20 19:43:45\n",
      "we are on fold no.9\n",
      "\tloss: 0.301129279104439\n",
      "\ttime: 2023-05-20 19:43:46\n"
     ]
    }
   ],
   "source": [
    "from pathlib import Path\n",
    "from datetime import datetime\n",
    "n_epochs=1600\n",
    "batch_size=32\n",
    "\n",
    "PATH = 'model_dnn/'\n",
    "Path(PATH).mkdir(parents=True, exist_ok=True)\n",
    "device = torch.device(\"cuda\" if torch.cuda.is_available() else \"cpu\")\n",
    "\n",
    "# change: commented out: alraedy read in X, y data earlier\n",
    "# response = pd.read_csv(\"1127_final_data/response.csv\", header=None).values #input X\n",
    "# spectra = pd.read_csv(\"1127_final_data/spectra.csv\", header=None).values #ground truth label Y\n",
    "# change: input dim = 1000\n",
    "mdl = Model(device=device, input_dim=input_dimension)\n",
    "losses = []\n",
    "recovered_losses = []\n",
    "print(f\"number of epochs: {n_epochs}, batch size: {batch_size}, device: {mdl.device}\")\n",
    "\n",
    "f = open(\"log_dnn.txt\", \"w\")\n",
    "f.write(\"train START: \" + datetime.now().strftime(\"%Y-%m-%d %H:%M:%S\") + \"\\n\")\n",
    "f.write(f\"number of epochs: {n_epochs}, batch size: {batch_size}, device: {device}\\n\")\n",
    "for i, (train, test) in enumerate(zip(train_indices, test_indices)):\n",
    "    print(f\"we are on fold no.{i}\")\n",
    "    train_data, train_label= spectrum[train], temperature[train]\n",
    "    test_data, test_label= spectrum[test], temperature[test]\n",
    "    mse_calculator = CalculateMSE(mdl,n_epochs, batch_size)\n",
    "    # print(f\"train_data shape: {train_data.shape}\")\n",
    "    # print(f\"train_label shape: {train_label.shape}\")\n",
    "    loss, model = mse_calculator.get_mse(train_data, \n",
    "                                        train_label, \n",
    "                                        test_data, \n",
    "                                        test_label)\n",
    "    # want: display loss w.r.t pre-normalized (actual) data scale (during validation)\n",
    "    losses.append(loss)\n",
    "    print(f\"\\tloss: {loss}\")\n",
    "    print(\"\\ttime: \" + datetime.now().strftime(\"%Y-%m-%d %H:%M:%S\"))\n",
    "        \n",
    "    f.write(f\"fold = {i}\")\n",
    "    f.write(f\"\\tloss: {loss}\\n\")\n",
    "    f.write(\"\\ttime: \" + datetime.now().strftime(\"%Y-%m-%d %H:%M:%S\") +\"\\n\")\n",
    "\n",
    "    torch.save(model.state_dict(), PATH+'model_'+str(i))\n",
    "f.write(\"train END: \" + datetime.now().strftime(\"%Y-%m-%d %H:%M:%S\") + \"\\n\")\n",
    "f.close()"
   ]
  },
  {
   "cell_type": "code",
   "execution_count": 18,
   "id": "c388d3df-3754-4852-b39c-497b69f65682",
   "metadata": {},
   "outputs": [
    {
     "name": "stdout",
     "output_type": "stream",
     "text": [
      "mean losses: 0.23848403317702785, std: 0.045759872739188655\n"
     ]
    }
   ],
   "source": [
    "losses_mean = np.mean(losses)\n",
    "losses_std = np.std(losses)\n",
    "print(f\"mean losses: {losses_mean}, std: {losses_std}\")"
   ]
  },
  {
   "cell_type": "code",
   "execution_count": 19,
   "id": "50809583",
   "metadata": {
    "collapsed": true,
    "jupyter": {
     "outputs_hidden": true
    },
    "tags": []
   },
   "outputs": [
    {
     "name": "stdout",
     "output_type": "stream",
     "text": [
      "we use 410th example\n",
      "-----------------------------------------------------\n",
      "\tthe prediction is: 21.067136764526367\n",
      "\tthe ground truth is: 20.7\n",
      "\tthe difference is: 0.3671367645263679\n",
      "we use 534th example\n",
      "-----------------------------------------------------\n",
      "\tthe prediction is: 20.939960479736328\n",
      "\tthe ground truth is: 20.7\n",
      "\tthe difference is: 0.23996047973632884\n",
      "we use 1238th example\n",
      "-----------------------------------------------------\n",
      "\tthe prediction is: 20.881813049316406\n",
      "\tthe ground truth is: 21.0\n",
      "\tthe difference is: -0.11818695068359375\n",
      "we use 2005th example\n",
      "-----------------------------------------------------\n",
      "\tthe prediction is: 21.471771240234375\n",
      "\tthe ground truth is: 21.2\n",
      "\tthe difference is: 0.2717712402343757\n",
      "we use 2451th example\n",
      "-----------------------------------------------------\n",
      "\tthe prediction is: 21.286157608032227\n",
      "\tthe ground truth is: 21.2\n",
      "\tthe difference is: 0.08615760803222727\n",
      "we use 3101th example\n",
      "-----------------------------------------------------\n",
      "\tthe prediction is: 20.60345458984375\n",
      "\tthe ground truth is: 21.5\n",
      "\tthe difference is: -0.89654541015625\n",
      "we use 3536th example\n",
      "-----------------------------------------------------\n",
      "\tthe prediction is: 22.124488830566406\n",
      "\tthe ground truth is: 21.5\n",
      "\tthe difference is: 0.6244888305664062\n",
      "we use 4457th example\n",
      "-----------------------------------------------------\n",
      "\tthe prediction is: 21.409305572509766\n",
      "\tthe ground truth is: 21.7\n",
      "\tthe difference is: -0.29069442749023366\n",
      "we use 4930th example\n",
      "-----------------------------------------------------\n",
      "\tthe prediction is: 22.398942947387695\n",
      "\tthe ground truth is: 21.7\n",
      "\tthe difference is: 0.698942947387696\n",
      "we use 5328th example\n",
      "-----------------------------------------------------\n",
      "\tthe prediction is: 21.907691955566406\n",
      "\tthe ground truth is: 21.8\n",
      "\tthe difference is: 0.10769195556640554\n"
     ]
    }
   ],
   "source": [
    "number_figures = 10\n",
    "import matplotlib.pyplot as plt\n",
    "\n",
    "indices = torch.randint(0, len(spectrum),(number_figures,)).unique()\n",
    "for i in indices:\n",
    "    print(f\"we use {i}th example\")\n",
    "    # change: cast i to int, since pandas not work with torch.int64\n",
    "    # changed: removed figure, since the output is just one number\n",
    "    spec = np.asarray(spectrum[int(i)]).flatten()\n",
    "    temp = np.asarray(temperature[int(i)]).flatten()\n",
    "\n",
    "    prediction = model(torch.Tensor(np.asarray(spectrum[int(i)])).to(model.device)).detach().cpu().flatten()\n",
    "    \n",
    "    prediction = prediction.item()\n",
    "    ground_truth = temp.item()\n",
    "    # recover data from normalization\n",
    "    print(f\"-----------------------------------------------------\")\n",
    "    print(f\"\\tthe prediction is: {prediction}\")\n",
    "    print(f\"\\tthe ground truth is: {ground_truth}\")\n",
    "    print(f\"\\tthe difference is: {prediction - ground_truth}\")\n"
   ]
  },
  {
   "attachments": {},
   "cell_type": "markdown",
   "id": "37ccb386",
   "metadata": {},
   "source": [
    "# **skip cell 14 for now (it's in template file!)**"
   ]
  }
 ],
 "metadata": {
  "kernelspec": {
   "display_name": "Python 3 (ipykernel)",
   "language": "python",
   "name": "python3"
  },
  "language_info": {
   "codemirror_mode": {
    "name": "ipython",
    "version": 3
   },
   "file_extension": ".py",
   "mimetype": "text/x-python",
   "name": "python",
   "nbconvert_exporter": "python",
   "pygments_lexer": "ipython3",
   "version": "3.11.3"
  }
 },
 "nbformat": 4,
 "nbformat_minor": 5
}
