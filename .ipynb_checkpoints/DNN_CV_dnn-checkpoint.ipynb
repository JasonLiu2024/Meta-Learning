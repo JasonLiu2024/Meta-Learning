{
 "cells": [
  {
   "cell_type": "code",
   "execution_count": 1,
   "id": "a5ca00eb",
   "metadata": {},
   "outputs": [],
   "source": [
    "from sklearn.model_selection import KFold\n",
    "import pickle\n",
    "import pandas as pd\n",
    "import os.path\n",
    "import numpy as np\n",
    "# path dictionary\n",
    "path_data_folder = \"5.9.23/\"\n",
    "path_dictionary = {\n",
    "    '20.7': path_data_folder + \"twentypointseven\",\n",
    "    '21.0': path_data_folder + \"twentyonepointzero_1\",\n",
    "    '21.2': path_data_folder + \"twentyonepointtwo_1\",\n",
    "    '21.5': path_data_folder + \"twentyonepointfive_1\",\n",
    "    '21.7': path_data_folder + \"TwentyonepointseevendegreeC_1\",\n",
    "    '21.8': path_data_folder + \"twentypointeight_1\"\n",
    "}\n",
    "# separator in this file is tab\n",
    "frames = pd.read_csv(\"5.9.23/twentypointseven\", sep=\"\\t\", header=None)\n",
    "# label for entire file is the temperature\n",
    "\n",
    "\n",
    "\n"
   ]
  },
  {
   "cell_type": "code",
   "execution_count": 2,
   "id": "d06975ee",
   "metadata": {},
   "outputs": [
    {
     "name": "stdout",
     "output_type": "stream",
     "text": [
      "10000\n",
      "float64\n"
     ]
    }
   ],
   "source": [
    "print(frames.shape[1])\n",
    "print(frames[9999][999].dtype) # <- pandas index is [column][row]"
   ]
  },
  {
   "cell_type": "code",
   "execution_count": 3,
   "id": "74f84f31",
   "metadata": {},
   "outputs": [
    {
     "data": {
      "text/plain": [
       "0      0.808\n",
       "1      0.824\n",
       "2      0.816\n",
       "3      0.816\n",
       "4      0.824\n",
       "       ...  \n",
       "995    0.936\n",
       "996    0.944\n",
       "997    0.936\n",
       "998    0.944\n",
       "999    0.936\n",
       "Name: 0, Length: 1000, dtype: float64"
      ]
     },
     "execution_count": 3,
     "metadata": {},
     "output_type": "execute_result"
    }
   ],
   "source": [
    "frames[0]"
   ]
  },
  {
   "cell_type": "code",
   "execution_count": 4,
   "id": "d269bf46",
   "metadata": {},
   "outputs": [
    {
     "data": {
      "text/plain": [
       "(1, 10000)"
      ]
     },
     "execution_count": 4,
     "metadata": {},
     "output_type": "execute_result"
    }
   ],
   "source": [
    "number_of_egs = frames.shape[1]\n",
    "a = np.zeros((1, number_of_egs)) + 20\n",
    "df_label = pd.DataFrame(a)\n",
    "df_label.shape"
   ]
  },
  {
   "cell_type": "code",
   "execution_count": 5,
   "id": "dcc5b8d2",
   "metadata": {},
   "outputs": [],
   "source": [
    "df_label.columns = np.asarray(range(df_label.shape[1]))"
   ]
  },
  {
   "cell_type": "code",
   "execution_count": 6,
   "id": "d5c7f10f",
   "metadata": {},
   "outputs": [
    {
     "data": {
      "text/html": [
       "<div>\n",
       "<style scoped>\n",
       "    .dataframe tbody tr th:only-of-type {\n",
       "        vertical-align: middle;\n",
       "    }\n",
       "\n",
       "    .dataframe tbody tr th {\n",
       "        vertical-align: top;\n",
       "    }\n",
       "\n",
       "    .dataframe thead th {\n",
       "        text-align: right;\n",
       "    }\n",
       "</style>\n",
       "<table border=\"1\" class=\"dataframe\">\n",
       "  <thead>\n",
       "    <tr style=\"text-align: right;\">\n",
       "      <th></th>\n",
       "      <th>1</th>\n",
       "      <th>2</th>\n",
       "      <th>3</th>\n",
       "    </tr>\n",
       "  </thead>\n",
       "  <tbody>\n",
       "    <tr>\n",
       "      <th>0</th>\n",
       "      <td>20.0</td>\n",
       "      <td>20.0</td>\n",
       "      <td>20.0</td>\n",
       "    </tr>\n",
       "  </tbody>\n",
       "</table>\n",
       "</div>"
      ],
      "text/plain": [
       "      1     2     3\n",
       "0  20.0  20.0  20.0"
      ]
     },
     "execution_count": 6,
     "metadata": {},
     "output_type": "execute_result"
    }
   ],
   "source": [
    "df_label[[1, 2, 3]]"
   ]
  },
  {
   "cell_type": "code",
   "execution_count": 7,
   "id": "84655847",
   "metadata": {},
   "outputs": [],
   "source": [
    "# the data are (1000 * 1) column vectors.\n",
    "# in the file, there are 1000 lines, each with n numbers, \n",
    "# where n = number of data vectors\n",
    "def load_data(filename_dictionary):\n",
    "    X_data = []     # data\n",
    "    y_data = []    # label\n",
    "    for filename, filepath in filename_dictionary.items():\n",
    "        print(f\"reading file:        {filepath}\")\n",
    "        X_in_this_file = pd.read_csv(filepath, sep=\"\\t\", header=None)\n",
    "        value = float(filename)\n",
    "        print(f\"\\ttemperature value: {value}\")\n",
    "        number_of_examples = X_in_this_file.shape[1]\n",
    "        y_in_this_file = np.zeros(shape=(1, number_of_examples)) + value\n",
    "        y_in_this_file = pd.DataFrame(y_in_this_file)\n",
    "        # default column setting is NO array, \n",
    "        # need to make it array to use list of indices!\n",
    "        y_in_this_file.columns = np.asarray(range(y_in_this_file.shape[1]))\n",
    "        X_data.append(X_in_this_file)\n",
    "        y_data.append(y_in_this_file)\n",
    "    X_data = pd.concat(X_data, axis=1, ignore_index=True)\n",
    "    y_data = pd.concat(y_data, axis=1, ignore_index=True)\n",
    "    return X_data, y_data"
   ]
  },
  {
   "cell_type": "code",
   "execution_count": 8,
   "id": "0373a910-6be0-4875-aae2-f58929440230",
   "metadata": {},
   "outputs": [
    {
     "name": "stdout",
     "output_type": "stream",
     "text": [
      "reading file:        5.9.23/twentypointseven\n",
      "\ttemperature value: 20.7\n",
      "reading file:        5.9.23/twentyonepointzero_1\n",
      "\ttemperature value: 21.0\n",
      "reading file:        5.9.23/twentyonepointtwo_1\n",
      "\ttemperature value: 21.2\n",
      "reading file:        5.9.23/twentyonepointfive_1\n",
      "\ttemperature value: 21.5\n",
      "reading file:        5.9.23/TwentyonepointseevendegreeC_1\n",
      "\ttemperature value: 21.7\n",
      "reading file:        5.9.23/twentypointeight_1\n",
      "\ttemperature value: 21.8\n",
      "total number of examples:     60000\n",
      "length of each example:       1000\n",
      "shape of X data: (1000, 60000), type: float64\n",
      "shape of y data: (1, 60000), type: float64\n"
     ]
    }
   ],
   "source": [
    "from sklearn.model_selection import KFold\n",
    "import pickle\n",
    "import pandas as pd\n",
    "# change: response (X) -> spectrum, spectra (y) -> temperature\n",
    "\n",
    "spectrum, temperature = load_data(filename_dictionary=path_dictionary)\n",
    "print(f\"total number of examples:     {spectrum.shape[1]}\")\n",
    "print(f\"length of each example:       {spectrum.shape[0]}\")\n",
    "print(f\"shape of X data: {spectrum.shape}, type: {spectrum[0][0].dtype}\")\n",
    "print(f\"shape of y data: {temperature.shape}, type: {temperature[0].dtype}\")\n",
    "\n",
    "import os.path\n",
    "file_name = 'cross_validation_resample=2_fold=5_dnn'\n",
    "if os.path.isfile(file_name+'.pickle'): \n",
    "    with open(file_name+'.pickle', 'rb') as handle:\n",
    "        train_indices,test_indices = pickle.load(handle)  \n",
    "else:\n",
    "    # 2x5 resampling\n",
    "    train_indices = []\n",
    "    test_indices = []\n",
    "    number_resamples = 2\n",
    "    n_splits =5\n",
    "    for i in range(number_resamples):\n",
    "        kf = KFold(n_splits=n_splits, random_state=i, shuffle=True)\n",
    "        for i, (train_index, test_index) in enumerate(kf.split(range(len(temperature)))):\n",
    "            train_indices.append(train_index)\n",
    "            test_indices.append(test_index)\n",
    "    with open(file_name+'.pickle', 'wb') as handle:\n",
    "        pickle.dump([train_indices,test_indices], handle, protocol=pickle.HIGHEST_PROTOCOL)\n",
    "                                            "
   ]
  },
  {
   "cell_type": "code",
   "execution_count": 9,
   "id": "d9ada605",
   "metadata": {},
   "outputs": [
    {
     "data": {
      "text/plain": [
       "RangeIndex(start=0, stop=60000, step=1)"
      ]
     },
     "execution_count": 9,
     "metadata": {},
     "output_type": "execute_result"
    }
   ],
   "source": [
    "temperature.columns"
   ]
  },
  {
   "cell_type": "code",
   "execution_count": 10,
   "id": "4659d309",
   "metadata": {},
   "outputs": [
    {
     "name": "stdout",
     "output_type": "stream",
     "text": [
      "(1000, 60000)\n"
     ]
    },
    {
     "data": {
      "text/html": [
       "<div>\n",
       "<style scoped>\n",
       "    .dataframe tbody tr th:only-of-type {\n",
       "        vertical-align: middle;\n",
       "    }\n",
       "\n",
       "    .dataframe tbody tr th {\n",
       "        vertical-align: top;\n",
       "    }\n",
       "\n",
       "    .dataframe thead th {\n",
       "        text-align: right;\n",
       "    }\n",
       "</style>\n",
       "<table border=\"1\" class=\"dataframe\">\n",
       "  <thead>\n",
       "    <tr style=\"text-align: right;\">\n",
       "      <th></th>\n",
       "      <th>1</th>\n",
       "      <th>2</th>\n",
       "      <th>3</th>\n",
       "    </tr>\n",
       "  </thead>\n",
       "  <tbody>\n",
       "    <tr>\n",
       "      <th>0</th>\n",
       "      <td>0.856</td>\n",
       "      <td>0.864</td>\n",
       "      <td>0.864</td>\n",
       "    </tr>\n",
       "    <tr>\n",
       "      <th>1</th>\n",
       "      <td>0.840</td>\n",
       "      <td>0.848</td>\n",
       "      <td>0.856</td>\n",
       "    </tr>\n",
       "    <tr>\n",
       "      <th>2</th>\n",
       "      <td>0.840</td>\n",
       "      <td>0.840</td>\n",
       "      <td>0.864</td>\n",
       "    </tr>\n",
       "    <tr>\n",
       "      <th>3</th>\n",
       "      <td>0.832</td>\n",
       "      <td>0.848</td>\n",
       "      <td>0.856</td>\n",
       "    </tr>\n",
       "    <tr>\n",
       "      <th>4</th>\n",
       "      <td>0.824</td>\n",
       "      <td>0.856</td>\n",
       "      <td>0.880</td>\n",
       "    </tr>\n",
       "    <tr>\n",
       "      <th>...</th>\n",
       "      <td>...</td>\n",
       "      <td>...</td>\n",
       "      <td>...</td>\n",
       "    </tr>\n",
       "    <tr>\n",
       "      <th>995</th>\n",
       "      <td>0.928</td>\n",
       "      <td>0.920</td>\n",
       "      <td>0.880</td>\n",
       "    </tr>\n",
       "    <tr>\n",
       "      <th>996</th>\n",
       "      <td>0.936</td>\n",
       "      <td>0.912</td>\n",
       "      <td>0.888</td>\n",
       "    </tr>\n",
       "    <tr>\n",
       "      <th>997</th>\n",
       "      <td>0.928</td>\n",
       "      <td>0.912</td>\n",
       "      <td>0.880</td>\n",
       "    </tr>\n",
       "    <tr>\n",
       "      <th>998</th>\n",
       "      <td>0.928</td>\n",
       "      <td>0.912</td>\n",
       "      <td>0.880</td>\n",
       "    </tr>\n",
       "    <tr>\n",
       "      <th>999</th>\n",
       "      <td>0.928</td>\n",
       "      <td>0.904</td>\n",
       "      <td>0.872</td>\n",
       "    </tr>\n",
       "  </tbody>\n",
       "</table>\n",
       "<p>1000 rows × 3 columns</p>\n",
       "</div>"
      ],
      "text/plain": [
       "         1      2      3\n",
       "0    0.856  0.864  0.864\n",
       "1    0.840  0.848  0.856\n",
       "2    0.840  0.840  0.864\n",
       "3    0.832  0.848  0.856\n",
       "4    0.824  0.856  0.880\n",
       "..     ...    ...    ...\n",
       "995  0.928  0.920  0.880\n",
       "996  0.936  0.912  0.888\n",
       "997  0.928  0.912  0.880\n",
       "998  0.928  0.912  0.880\n",
       "999  0.928  0.904  0.872\n",
       "\n",
       "[1000 rows x 3 columns]"
      ]
     },
     "execution_count": 10,
     "metadata": {},
     "output_type": "execute_result"
    }
   ],
   "source": [
    "print(spectrum.shape)\n",
    "spectrum[[1, 2, 3]]"
   ]
  },
  {
   "cell_type": "code",
   "execution_count": 11,
   "id": "84f06fef",
   "metadata": {},
   "outputs": [
    {
     "name": "stdout",
     "output_type": "stream",
     "text": [
      "(1, 60000)\n"
     ]
    },
    {
     "data": {
      "text/html": [
       "<div>\n",
       "<style scoped>\n",
       "    .dataframe tbody tr th:only-of-type {\n",
       "        vertical-align: middle;\n",
       "    }\n",
       "\n",
       "    .dataframe tbody tr th {\n",
       "        vertical-align: top;\n",
       "    }\n",
       "\n",
       "    .dataframe thead th {\n",
       "        text-align: right;\n",
       "    }\n",
       "</style>\n",
       "<table border=\"1\" class=\"dataframe\">\n",
       "  <thead>\n",
       "    <tr style=\"text-align: right;\">\n",
       "      <th></th>\n",
       "      <th>1</th>\n",
       "      <th>2</th>\n",
       "      <th>3</th>\n",
       "    </tr>\n",
       "  </thead>\n",
       "  <tbody>\n",
       "    <tr>\n",
       "      <th>0</th>\n",
       "      <td>20.7</td>\n",
       "      <td>20.7</td>\n",
       "      <td>20.7</td>\n",
       "    </tr>\n",
       "  </tbody>\n",
       "</table>\n",
       "</div>"
      ],
      "text/plain": [
       "      1     2     3\n",
       "0  20.7  20.7  20.7"
      ]
     },
     "execution_count": 11,
     "metadata": {},
     "output_type": "execute_result"
    }
   ],
   "source": [
    "print(temperature.shape)\n",
    "temperature[[1, 2, 3]]"
   ]
  },
  {
   "cell_type": "code",
   "execution_count": 12,
   "id": "551da4c6",
   "metadata": {},
   "outputs": [
    {
     "name": "stdout",
     "output_type": "stream",
     "text": [
      "torch.Size([128, 20])\n",
      "torch.Size([128, 30])\n"
     ]
    }
   ],
   "source": [
    "import torch\n",
    "import torch.nn as nn\n",
    "m = nn.Linear(20, 30)\n",
    "input = torch.randn(128, 20)\n",
    "print(input.shape)\n",
    "output = m(input)\n",
    "print(output.size())"
   ]
  },
  {
   "cell_type": "code",
   "execution_count": 13,
   "id": "e11a5496-4ebb-4ea9-a759-26481d1fb849",
   "metadata": {},
   "outputs": [],
   "source": [
    "import torch\n",
    "import torch.nn as nn\n",
    "# change: input dim = 1000, output dim = 1 (temperature value)\n",
    "class Model(torch.nn.Module):\n",
    "    def __init__(self,device, input_dim=1000):\n",
    "        super().__init__()\n",
    "        self.relu  = nn.ReLU()\n",
    "        self.hidden_dim = 500\n",
    "        self.linear1 = torch.nn.Linear(input_dim, self.hidden_dim)\n",
    "        self.linear2= torch.nn.Linear(self.hidden_dim, self.hidden_dim)\n",
    "        self.linear3= torch.nn.Linear(self.hidden_dim, 1)\n",
    "        self.device = device\n",
    "        self.to(device)\n",
    "    def forward(self, x):\n",
    "        y= self.linear3(self.relu(self.linear2(self.relu(self.linear1(x)))))\n",
    "        # change: remove sigmoid, use y result as is\n",
    "        # y = torch.sigmoid(y)\n",
    "        return y\n"
   ]
  },
  {
   "cell_type": "code",
   "execution_count": 14,
   "id": "17847f0f-c9ae-49a7-a84d-e6f82f5cef6f",
   "metadata": {},
   "outputs": [],
   "source": [
    "from torch.utils.data import DataLoader\n",
    "from torch import optim\n",
    "import numpy as np\n",
    "class CalculateMSE():\n",
    "    def __init__(self, net, n_epochs, batch_size):\n",
    "        super().__init__()\n",
    "        self.net = net\n",
    "        #initialize some constants\n",
    "        self.batch_size = 32\n",
    "        self.learning_rate = 1e-4\n",
    "        self.n_epochs = n_epochs\n",
    "        self.net.apply(self.weights_init)   \n",
    "    def weights_init(self,layer):\n",
    "        if type(layer) == nn.Linear:\n",
    "            nn.init.orthogonal_(layer.weight)\n",
    "    def get_mse(self,train_data, train_label, test_data, test_label):\n",
    "        train_set = torch.utils.data.TensorDataset(\n",
    "            torch.Tensor(train_data), \n",
    "            torch.Tensor(train_label))\n",
    "        val_set = torch.utils.data.TensorDataset(\n",
    "            torch.Tensor(test_data), \n",
    "            torch.Tensor(test_label))\n",
    "        loader_args = dict(batch_size=self.batch_size)\n",
    "        train_loader = DataLoader(train_set, shuffle=True, drop_last=True, **loader_args)\n",
    "        val_loader = DataLoader(val_set, shuffle=True, drop_last=True, **loader_args)\n",
    "        tloss = []\n",
    "        vloss = []\n",
    "        criterion = nn.MSELoss()\n",
    "        optimizer = optim.Adam(self.net.parameters(), lr=self.learning_rate) # weight_decay=0\n",
    "        for epoch in range(0, self.n_epochs):\n",
    "            if epoch \n",
    "            epoch_train_loss=[]\n",
    "            for i, data in enumerate(train_loader, 0):\n",
    "                inputs, label = data\n",
    "                y_pred = self.net(inputs.to(self.net.device))\n",
    "                loss = criterion(y_pred, label.to(self.net.device))\n",
    "                optimizer.zero_grad()\n",
    "                loss.backward()\n",
    "                optimizer.step()\n",
    "                epoch_train_loss.append(loss.item())\n",
    "            tloss.append(np.mean(epoch_train_loss))\n",
    "            epoch_loss=[]\n",
    "            for i, data in enumerate(val_loader, 0):\n",
    "                with torch.no_grad():\n",
    "                    inputs1, label1 = data\n",
    "                    y_pred1 = self.net(inputs1.to(self.net.device))\n",
    "                    loss1 = criterion(y_pred1, label1.to(self.net.device))\n",
    "                    epoch_loss.append(loss1.item())\n",
    "            vloss.append(np.mean(epoch_loss))\n",
    "        return np.min(vloss), self.net\n"
   ]
  },
  {
   "cell_type": "code",
   "execution_count": null,
   "id": "a6361355-4b60-4910-b158-c54bd4016da2",
   "metadata": {},
   "outputs": [
    {
     "name": "stdout",
     "output_type": "stream",
     "text": [
      "we are on fold no.0\n"
     ]
    }
   ],
   "source": [
    "from pathlib import Path\n",
    "# change: turn into 10 right now for development, was 3000\n",
    "n_epochs=3000\n",
    "batch_size=32\n",
    "PATH = 'model_dnn/'\n",
    "Path(PATH).mkdir(parents=True, exist_ok=True)\n",
    "device = torch.device(\"cuda\" if torch.cuda.is_available() else \"cpu\")\n",
    "# change: commented out: alraedy read in X, y data earlier\n",
    "# response = pd.read_csv(\"1127_final_data/response.csv\", header=None).values #input X\n",
    "# spectra = pd.read_csv(\"1127_final_data/spectra.csv\", header=None).values #ground truth label Y\n",
    "# change: input dim = 1000\n",
    "mdl = Model(device=device, input_dim=1000)\n",
    "losses = []\n",
    "for i,(train,test) in enumerate(zip(train_indices,test_indices)):\n",
    "    print(f\"we are on fold no.{i}\")\n",
    "    train_data, train_label= spectrum[train],temperature[train]\n",
    "    test_data, test_label= spectrum[test],temperature[test]\n",
    "    mse_calculator = CalculateMSE(mdl,n_epochs,batch_size)\n",
    "    loss,model = mse_calculator.get_mse(np.transpose(np.asarray(train_data)), \n",
    "                                        np.transpose(np.asarray(train_label)), \n",
    "                                        np.transpose(np.asarray(test_data)), \n",
    "                                        np.transpose(np.asarray(test_label)))\n",
    "    losses.append(loss)\n",
    "    print(f\"\\tloss: {loss}\")\n",
    "    torch.save(model.state_dict(), PATH+'model'+str(i))"
   ]
  },
  {
   "cell_type": "code",
   "execution_count": null,
   "id": "c62b1d3a",
   "metadata": {},
   "outputs": [],
   "source": [
    "# takes 78 minutes per fold! loss is 412\n",
    "# After 700 minute, loss is:\n",
    "# we are on fold no.0\n",
    "# \tloss: 412.9017034505208\n",
    "# we are on fold no.1\n",
    "# \tloss: 412.9801847330729\n",
    "# we are on fold no.2\n",
    "# \tloss: 412.79992659505206\n",
    "# we are on fold no.3\n",
    "# \tloss: 412.94208658854166\n",
    "# we are on fold no.4\n",
    "# \tloss: 412.96778076171876\n",
    "# we are on fold no.5\n",
    "# \tloss: 412.6050344238281\n",
    "# we are on fold no.6\n",
    "# \tloss: 412.8362565917969\n",
    "# we are on fold no.7\n",
    "# \tloss: 413.03926790364585\n",
    "# we are on fold no.8\n",
    "# \tloss: 413.1065719401042\n",
    "# we are on fold no.9\n",
    "# \tloss: 413.0045514322917\n",
    "# intuition, label is about 20, error is MSE, \n",
    "# so my predictions are always 0 or 1-ish!\n",
    "# Problem: used sigmoid(y) at end of neural network!!!"
   ]
  },
  {
   "cell_type": "code",
   "execution_count": 118,
   "id": "c388d3df-3754-4852-b39c-497b69f65682",
   "metadata": {},
   "outputs": [
    {
     "name": "stdout",
     "output_type": "stream",
     "text": [
      "412.91833644205724 0.13546839915452574\n"
     ]
    }
   ],
   "source": [
    "print(np.mean(losses),np.std(losses))"
   ]
  },
  {
   "cell_type": "code",
   "execution_count": 124,
   "id": "f58b6c6c",
   "metadata": {},
   "outputs": [
    {
     "data": {
      "text/plain": [
       "1000"
      ]
     },
     "execution_count": 124,
     "metadata": {},
     "output_type": "execute_result"
    }
   ],
   "source": [
    "len(spectrum)"
   ]
  },
  {
   "cell_type": "code",
   "execution_count": 129,
   "id": "e985bb1e",
   "metadata": {},
   "outputs": [
    {
     "name": "stdout",
     "output_type": "stream",
     "text": [
      "0      0.920\n",
      "1      0.912\n",
      "2      0.904\n",
      "3      0.904\n",
      "4      0.912\n",
      "       ...  \n",
      "995    0.816\n",
      "996    0.808\n",
      "997    0.808\n",
      "998    0.800\n",
      "999    0.800\n",
      "Name: 69, Length: 1000, dtype: float64\n"
     ]
    }
   ],
   "source": [
    "print(spectrum[69])"
   ]
  },
  {
   "cell_type": "code",
   "execution_count": 137,
   "id": "0c4776bc",
   "metadata": {},
   "outputs": [
    {
     "data": {
      "text/plain": [
       "torch.int64"
      ]
     },
     "execution_count": 137,
     "metadata": {},
     "output_type": "execute_result"
    }
   ],
   "source": [
    "a = torch.randint(0, 1000,(10,))\n",
    "a[1].dtype"
   ]
  },
  {
   "cell_type": "code",
   "execution_count": 139,
   "id": "617b7d78",
   "metadata": {},
   "outputs": [
    {
     "data": {
      "text/plain": [
       "0      0.816\n",
       "1      0.824\n",
       "2      0.832\n",
       "3      0.824\n",
       "4      0.832\n",
       "       ...  \n",
       "995    0.856\n",
       "996    0.848\n",
       "997    0.864\n",
       "998    0.848\n",
       "999    0.840\n",
       "Name: 192, Length: 1000, dtype: float64"
      ]
     },
     "execution_count": 139,
     "metadata": {},
     "output_type": "execute_result"
    }
   ],
   "source": [
    "spectrum[int(a[1])]"
   ]
  },
  {
   "cell_type": "code",
   "execution_count": 142,
   "id": "db843f55",
   "metadata": {},
   "outputs": [
    {
     "data": {
      "text/plain": [
       "array([0.816, 0.824, 0.832, 0.824, 0.832, 0.832, 0.84 , 0.816, 0.824,\n",
       "       0.816, 0.824, 0.816, 0.832, 0.832, 0.832, 0.832, 0.832, 0.824,\n",
       "       0.816, 0.84 , 0.816, 0.84 , 0.832, 0.816, 0.84 , 0.824, 0.824,\n",
       "       0.832, 0.84 , 0.816, 0.832, 0.832, 0.832, 0.824, 0.824, 0.824,\n",
       "       0.824, 0.832, 0.824, 0.824, 0.832, 0.824, 0.824, 0.832, 0.832,\n",
       "       0.824, 0.824, 0.824, 0.832, 0.824, 0.824, 0.824, 0.824, 0.832,\n",
       "       0.832, 0.816, 0.824, 0.816, 0.832, 0.84 , 0.84 , 0.832, 0.832,\n",
       "       0.832, 0.832, 0.824, 0.816, 0.832, 0.84 , 0.816, 0.832, 0.832,\n",
       "       0.824, 0.816, 0.816, 0.816, 0.824, 0.816, 0.832, 0.824, 0.824,\n",
       "       0.816, 0.816, 0.816, 0.816, 0.808, 0.808, 0.8  , 0.816, 0.816,\n",
       "       0.808, 0.816, 0.832, 0.808, 0.808, 0.816, 0.816, 0.816, 0.816,\n",
       "       0.808, 0.816, 0.808, 0.832, 0.816, 0.808, 0.816, 0.816, 0.816,\n",
       "       0.824, 0.824, 0.824, 0.824, 0.832, 0.84 , 0.832, 0.832, 0.84 ,\n",
       "       0.824, 0.832, 0.816, 0.824, 0.84 , 0.832, 0.832, 0.824, 0.832,\n",
       "       0.84 , 0.832, 0.832, 0.824, 0.824, 0.824, 0.824, 0.832, 0.856,\n",
       "       0.832, 0.832, 0.84 , 0.848, 0.824, 0.824, 0.816, 0.832, 0.832,\n",
       "       0.832, 0.84 , 0.832, 0.832, 0.832, 0.832, 0.84 , 0.832, 0.824,\n",
       "       0.84 , 0.84 , 0.824, 0.832, 0.824, 0.824, 0.824, 0.832, 0.832,\n",
       "       0.816, 0.824, 0.832, 0.84 , 0.832, 0.824, 0.816, 0.816, 0.824,\n",
       "       0.832, 0.84 , 0.816, 0.816, 0.824, 0.816, 0.832, 0.824, 0.832,\n",
       "       0.816, 0.832, 0.816, 0.84 , 0.824, 0.824, 0.824, 0.816, 0.824,\n",
       "       0.816, 0.816, 0.824, 0.824, 0.824, 0.816, 0.816, 0.824, 0.824,\n",
       "       0.808, 0.816, 0.816, 0.824, 0.816, 0.824, 0.816, 0.824, 0.832,\n",
       "       0.816, 0.84 , 0.832, 0.824, 0.816, 0.816, 0.84 , 0.824, 0.832,\n",
       "       0.832, 0.848, 0.824, 0.84 , 0.84 , 0.84 , 0.832, 0.832, 0.84 ,\n",
       "       0.84 , 0.84 , 0.848, 0.824, 0.84 , 0.84 , 0.84 , 0.84 , 0.832,\n",
       "       0.84 , 0.832, 0.832, 0.84 , 0.832, 0.84 , 0.84 , 0.832, 0.84 ,\n",
       "       0.832, 0.832, 0.84 , 0.848, 0.832, 0.856, 0.832, 0.84 , 0.832,\n",
       "       0.832, 0.832, 0.832, 0.84 , 0.84 , 0.832, 0.824, 0.824, 0.832,\n",
       "       0.824, 0.824, 0.816, 0.824, 0.824, 0.824, 0.816, 0.824, 0.824,\n",
       "       0.816, 0.808, 0.824, 0.816, 0.816, 0.816, 0.824, 0.816, 0.816,\n",
       "       0.808, 0.808, 0.816, 0.824, 0.816, 0.816, 0.8  , 0.816, 0.808,\n",
       "       0.808, 0.824, 0.824, 0.816, 0.816, 0.808, 0.824, 0.832, 0.808,\n",
       "       0.808, 0.808, 0.824, 0.816, 0.808, 0.808, 0.816, 0.816, 0.816,\n",
       "       0.816, 0.808, 0.816, 0.808, 0.824, 0.816, 0.824, 0.824, 0.816,\n",
       "       0.816, 0.824, 0.808, 0.816, 0.824, 0.824, 0.824, 0.824, 0.824,\n",
       "       0.824, 0.832, 0.84 , 0.832, 0.832, 0.84 , 0.816, 0.824, 0.824,\n",
       "       0.84 , 0.832, 0.824, 0.832, 0.832, 0.824, 0.832, 0.84 , 0.84 ,\n",
       "       0.832, 0.824, 0.84 , 0.832, 0.832, 0.832, 0.832, 0.832, 0.824,\n",
       "       0.824, 0.832, 0.832, 0.832, 0.832, 0.832, 0.824, 0.832, 0.84 ,\n",
       "       0.832, 0.824, 0.824, 0.832, 0.824, 0.816, 0.824, 0.824, 0.832,\n",
       "       0.832, 0.824, 0.832, 0.816, 0.816, 0.816, 0.824, 0.816, 0.832,\n",
       "       0.832, 0.816, 0.816, 0.816, 0.816, 0.816, 0.816, 0.816, 0.816,\n",
       "       0.816, 0.816, 0.816, 0.808, 0.824, 0.816, 0.816, 0.832, 0.816,\n",
       "       0.824, 0.824, 0.816, 0.816, 0.816, 0.824, 0.824, 0.832, 0.824,\n",
       "       0.816, 0.816, 0.816, 0.824, 0.816, 0.824, 0.832, 0.816, 0.832,\n",
       "       0.824, 0.816, 0.816, 0.832, 0.824, 0.816, 0.816, 0.816, 0.824,\n",
       "       0.824, 0.824, 0.824, 0.824, 0.816, 0.832, 0.824, 0.824, 0.832,\n",
       "       0.84 , 0.832, 0.832, 0.832, 0.832, 0.84 , 0.824, 0.84 , 0.832,\n",
       "       0.832, 0.832, 0.832, 0.84 , 0.832, 0.832, 0.824, 0.832, 0.832,\n",
       "       0.848, 0.832, 0.832, 0.84 , 0.832, 0.816, 0.832, 0.832, 0.824,\n",
       "       0.824, 0.816, 0.824, 0.816, 0.824, 0.824, 0.816, 0.816, 0.816,\n",
       "       0.816, 0.832, 0.824, 0.816, 0.824, 0.824, 0.824, 0.816, 0.824,\n",
       "       0.808, 0.832, 0.832, 0.824, 0.832, 0.816, 0.832, 0.832, 0.824,\n",
       "       0.832, 0.816, 0.832, 0.824, 0.832, 0.816, 0.816, 0.816, 0.808,\n",
       "       0.816, 0.808, 0.816, 0.816, 0.816, 0.816, 0.824, 0.816, 0.816,\n",
       "       0.824, 0.824, 0.816, 0.816, 0.816, 0.824, 0.816, 0.816, 0.824,\n",
       "       0.824, 0.816, 0.824, 0.832, 0.824, 0.832, 0.824, 0.816, 0.832,\n",
       "       0.824, 0.824, 0.816, 0.816, 0.816, 0.816, 0.816, 0.824, 0.824,\n",
       "       0.816, 0.816, 0.824, 0.808, 0.816, 0.816, 0.816, 0.816, 0.816,\n",
       "       0.816, 0.808, 0.816, 0.816, 0.816, 0.808, 0.816, 0.808, 0.816,\n",
       "       0.816, 0.824, 0.808, 0.816, 0.824, 0.824, 0.816, 0.824, 0.824,\n",
       "       0.816, 0.824, 0.824, 0.816, 0.824, 0.816, 0.824, 0.816, 0.824,\n",
       "       0.824, 0.824, 0.816, 0.816, 0.824, 0.808, 0.808, 0.824, 0.824,\n",
       "       0.808, 0.816, 0.816, 0.824, 0.816, 0.816, 0.816, 0.816, 0.816,\n",
       "       0.816, 0.816, 0.816, 0.824, 0.816, 0.824, 0.808, 0.832, 0.808,\n",
       "       0.816, 0.832, 0.816, 0.832, 0.816, 0.816, 0.816, 0.816, 0.816,\n",
       "       0.824, 0.816, 0.816, 0.848, 0.824, 0.816, 0.832, 0.824, 0.824,\n",
       "       0.824, 0.832, 0.824, 0.84 , 0.824, 0.824, 0.816, 0.824, 0.816,\n",
       "       0.816, 0.824, 0.808, 0.824, 0.816, 0.832, 0.816, 0.816, 0.824,\n",
       "       0.824, 0.816, 0.832, 0.832, 0.832, 0.816, 0.832, 0.816, 0.808,\n",
       "       0.824, 0.832, 0.824, 0.824, 0.84 , 0.816, 0.832, 0.832, 0.832,\n",
       "       0.84 , 0.84 , 0.832, 0.824, 0.84 , 0.832, 0.824, 0.824, 0.824,\n",
       "       0.816, 0.816, 0.816, 0.816, 0.816, 0.824, 0.816, 0.816, 0.816,\n",
       "       0.816, 0.816, 0.824, 0.816, 0.824, 0.832, 0.816, 0.856, 0.824,\n",
       "       0.848, 0.84 , 0.832, 0.84 , 0.832, 0.856, 0.84 , 0.84 , 0.84 ,\n",
       "       0.84 , 0.84 , 0.84 , 0.84 , 0.848, 0.84 , 0.832, 0.84 , 0.84 ,\n",
       "       0.84 , 0.832, 0.848, 0.84 , 0.856, 0.832, 0.84 , 0.816, 0.824,\n",
       "       0.824, 0.816, 0.832, 0.824, 0.832, 0.824, 0.816, 0.816, 0.824,\n",
       "       0.816, 0.816, 0.824, 0.816, 0.816, 0.816, 0.808, 0.816, 0.816,\n",
       "       0.816, 0.808, 0.816, 0.824, 0.816, 0.816, 0.816, 0.824, 0.816,\n",
       "       0.816, 0.816, 0.832, 0.808, 0.816, 0.832, 0.832, 0.816, 0.824,\n",
       "       0.832, 0.832, 0.816, 0.816, 0.824, 0.824, 0.816, 0.816, 0.832,\n",
       "       0.824, 0.824, 0.832, 0.84 , 0.824, 0.816, 0.832, 0.824, 0.832,\n",
       "       0.832, 0.832, 0.816, 0.832, 0.832, 0.824, 0.832, 0.816, 0.824,\n",
       "       0.808, 0.832, 0.824, 0.832, 0.824, 0.816, 0.832, 0.824, 0.816,\n",
       "       0.832, 0.824, 0.816, 0.824, 0.832, 0.824, 0.816, 0.824, 0.808,\n",
       "       0.84 , 0.816, 0.832, 0.832, 0.824, 0.824, 0.816, 0.816, 0.824,\n",
       "       0.832, 0.832, 0.824, 0.84 , 0.832, 0.832, 0.832, 0.832, 0.832,\n",
       "       0.824, 0.824, 0.832, 0.832, 0.84 , 0.84 , 0.832, 0.832, 0.832,\n",
       "       0.84 , 0.84 , 0.848, 0.84 , 0.832, 0.824, 0.856, 0.84 , 0.848,\n",
       "       0.84 , 0.856, 0.832, 0.832, 0.84 , 0.832, 0.832, 0.856, 0.848,\n",
       "       0.84 , 0.856, 0.856, 0.84 , 0.84 , 0.832, 0.84 , 0.816, 0.832,\n",
       "       0.84 , 0.832, 0.832, 0.824, 0.824, 0.84 , 0.84 , 0.832, 0.832,\n",
       "       0.824, 0.824, 0.824, 0.832, 0.832, 0.816, 0.816, 0.816, 0.832,\n",
       "       0.824, 0.824, 0.832, 0.824, 0.832, 0.816, 0.824, 0.824, 0.816,\n",
       "       0.832, 0.816, 0.832, 0.832, 0.832, 0.816, 0.816, 0.824, 0.824,\n",
       "       0.832, 0.84 , 0.84 , 0.832, 0.84 , 0.84 , 0.816, 0.84 , 0.832,\n",
       "       0.832, 0.856, 0.856, 0.84 , 0.848, 0.856, 0.848, 0.84 , 0.856,\n",
       "       0.84 , 0.84 , 0.84 , 0.848, 0.848, 0.84 , 0.848, 0.84 , 0.848,\n",
       "       0.848, 0.848, 0.856, 0.856, 0.856, 0.848, 0.84 , 0.848, 0.856,\n",
       "       0.848, 0.84 , 0.84 , 0.84 , 0.856, 0.848, 0.856, 0.84 , 0.848,\n",
       "       0.84 , 0.856, 0.832, 0.832, 0.84 , 0.856, 0.84 , 0.84 , 0.856,\n",
       "       0.832, 0.84 , 0.84 , 0.84 , 0.84 , 0.832, 0.84 , 0.832, 0.84 ,\n",
       "       0.824, 0.816, 0.84 , 0.816, 0.816, 0.816, 0.832, 0.832, 0.824,\n",
       "       0.832, 0.824, 0.824, 0.832, 0.824, 0.816, 0.824, 0.816, 0.832,\n",
       "       0.816, 0.832, 0.824, 0.832, 0.824, 0.832, 0.84 , 0.824, 0.832,\n",
       "       0.832, 0.84 , 0.84 , 0.832, 0.856, 0.832, 0.832, 0.848, 0.856,\n",
       "       0.84 , 0.856, 0.856, 0.84 , 0.832, 0.84 , 0.832, 0.856, 0.84 ,\n",
       "       0.856, 0.84 , 0.856, 0.84 , 0.832, 0.856, 0.848, 0.856, 0.832,\n",
       "       0.856, 0.84 , 0.856, 0.856, 0.856, 0.856, 0.848, 0.864, 0.848,\n",
       "       0.84 ])"
      ]
     },
     "execution_count": 142,
     "metadata": {},
     "output_type": "execute_result"
    }
   ],
   "source": [
    "np.asarray(spectrum[int(a[1])]).flatten()"
   ]
  },
  {
   "cell_type": "code",
   "execution_count": 143,
   "id": "d8041214",
   "metadata": {},
   "outputs": [
    {
     "data": {
      "text/plain": [
       "array([20.7])"
      ]
     },
     "execution_count": 143,
     "metadata": {},
     "output_type": "execute_result"
    }
   ],
   "source": [
    "np.asarray(temperature[int(a[1])]).flatten()"
   ]
  },
  {
   "cell_type": "code",
   "execution_count": 155,
   "id": "50809583",
   "metadata": {
    "collapsed": true,
    "jupyter": {
     "outputs_hidden": true
    },
    "tags": []
   },
   "outputs": [
    {
     "name": "stdout",
     "output_type": "stream",
     "text": [
      "21.190351486206055\n",
      "21.334142684936523\n",
      "21.416242599487305\n",
      "21.125505447387695\n",
      "21.493162155151367\n",
      "21.30922508239746\n",
      "21.312593460083008\n",
      "21.306320190429688\n",
      "21.248554229736328\n",
      "21.173583984375\n"
     ]
    },
    {
     "data": {
      "image/png": "[encoded data removed]",
      "text/plain": [
       "<Figure size 640x480 with 1 Axes>"
      ]
     },
     "metadata": {},
     "output_type": "display_data"
    },
    {
     "data": {
      "image/png": "[encoded data removed]",
      "text/plain": [
       "<Figure size 640x480 with 1 Axes>"
      ]
     },
     "metadata": {},
     "output_type": "display_data"
    },
    {
     "data": {
      "image/png": "[encoded data removed]",
      "text/plain": [
       "<Figure size 640x480 with 1 Axes>"
      ]
     },
     "metadata": {},
     "output_type": "display_data"
    },
    {
     "data": {
      "image/png": "[encoded data removed]",
      "text/plain": [
       "<Figure size 640x480 with 1 Axes>"
      ]
     },
     "metadata": {},
     "output_type": "display_data"
    },
    {
     "data": {
      "image/png": "[encoded data removed]",
      "text/plain": [
       "<Figure size 640x480 with 1 Axes>"
      ]
     },
     "metadata": {},
     "output_type": "display_data"
    },
    {
     "data": {
      "image/png": "[encoded data removed]",
      "text/plain": [
       "<Figure size 640x480 with 1 Axes>"
      ]
     },
     "metadata": {},
     "output_type": "display_data"
    },
    {
     "data": {
      "image/png": "[encoded data removed]",
      "text/plain": [
       "<Figure size 640x480 with 1 Axes>"
      ]
     },
     "metadata": {},
     "output_type": "display_data"
    },
    {
     "data": {
      "image/png": "[encoded data removed]",
      "text/plain": [
       "<Figure size 640x480 with 1 Axes>"
      ]
     },
     "metadata": {},
     "output_type": "display_data"
    },
    {
     "data": {
      "image/png": "[encoded data removed]",
      "text/plain": [
       "<Figure size 640x480 with 1 Axes>"
      ]
     },
     "metadata": {},
     "output_type": "display_data"
    },
    {
     "data": {
      "image/png": "[encoded data removed]",
      "text/plain": [
       "<Figure size 640x480 with 1 Axes>"
      ]
     },
     "metadata": {},
     "output_type": "display_data"
    }
   ],
   "source": [
    "number_figures = 10\n",
    "import matplotlib.pyplot as plt\n",
    "\n",
    "indices = torch.randint(0,len(spectrum),(number_figures,)).unique()\n",
    "for i in indices:\n",
    "    # change: cast i to int, since pandas not work with torch.int64\n",
    "    spec = np.asarray(spectrum[int(i)]).flatten()\n",
    "    temp = np.asarray(temperature[int(i)]).flatten()\n",
    "    plt.figure(i)\n",
    "\n",
    "    prediction = model(torch.Tensor(np.asarray(spectrum[int(i)])).to(model.device)).detach().cpu().flatten()\n",
    "    plt.plot(prediction)\n",
    "    print(prediction.item())\n",
    "    plt.plot(temp)\n",
    "    plt.legend(['reconstruction','ground truth'])\n"
   ]
  },
  {
   "cell_type": "code",
   "execution_count": 3,
   "id": "652a6d23-3f62-43cf-a619-ea946afe62a8",
   "metadata": {},
   "outputs": [
    {
     "name": "stdout",
     "output_type": "stream",
     "text": [
      "Importing the dtw module. When using in academic works please cite:\n",
      "  T. Giorgino. Computing and Visualizing Dynamic Time Warping Alignments in R: The dtw Package.\n",
      "  J. Stat. Soft., doi:10.18637/jss.v031.i07.\n",
      "\n",
      "0\n",
      "1\n",
      "2\n",
      "3\n",
      "4\n",
      "5\n",
      "6\n",
      "7\n",
      "8\n",
      "9\n",
      "pearson\n",
      "0.9601688760095318 0.11853941587479899\n",
      "0.0005174207354418956 0.019496233630702624\n",
      "kendall\n",
      "0.7930545322092128 0.13837908814327424\n",
      "0.00024102035294898573 0.008673205053680137\n",
      "spearman\n",
      "0.9120135898024406 0.12933239971338004\n",
      "0.00025593588755917237 0.012509801037211011\n",
      "DTW\n",
      "6.580943204707883 7.211687308293634\n",
      "Absolute Error\n",
      "5\n",
      "0.00047114007898968637\n",
      "50\n",
      "0.030604293622088434\n",
      "90\n",
      "0.14657643828582764\n",
      "95\n",
      "0.21064535517215727\n",
      "99\n",
      "0.3973736299907686\n",
      "Distance Correlation\n",
      "0.9601688758350228 0.11853941574094733\n"
     ]
    }
   ],
   "source": [
    "from pathlib import Path\n",
    "PATH = 'saved_model/DNN/'\n",
    "device = torch.device(\"cuda\")\n",
    "mdl = Model(device=device, input_dim=1000)\n",
    "\n",
    "from scipy import stats,spatial\n",
    "#pip install dtw-python\n",
    "from dtw import *\n",
    "import torch\n",
    "import numpy as np\n",
    "# response = pd.read_csv(\"1127_final_data/response.csv\", header=None).values #input X\n",
    "# spectra = pd.read_csv(\"1127_final_data/spectra.csv\", header=None).values #ground truth label Y\n",
    "correlation_losses = []\n",
    "\n",
    "def calculate_correlation(model, test_data, test_label):\n",
    "    test_data_tensor = torch.tensor(test_data, dtype=torch.float32).to(device)\n",
    "    construction = model(test_data_tensor).detach().cpu().numpy()\n",
    "   \n",
    "    # Pearson\n",
    "    pearson_coefs = []\n",
    "    pearson_ps = []\n",
    "    \n",
    "    # Kendall\n",
    "    kendall_coefs = []\n",
    "    kendall_ps = []\n",
    "    \n",
    "    # Spearman\n",
    "    spearman_coefs = []\n",
    "    spearman_ps = []\n",
    "    \n",
    "    # Distance Correlation\n",
    "    distance_corr = []\n",
    "    \n",
    "    #DTW distance\n",
    "    alignment = []\n",
    "    \n",
    "    #absolute_error\n",
    "    abs_err = []\n",
    "    \n",
    "    for i in range(test_label.shape[0]):\n",
    "        x1 = construction[i,:]\n",
    "        x2 = test_label[i,:]\n",
    "        \n",
    "        res = stats.pearsonr(x1, x2)\n",
    "        pearson_coefs.append(res[0])\n",
    "        pearson_ps.append(res[1])\n",
    "        \n",
    "        res = stats.kendalltau(x1, x2)\n",
    "        kendall_coefs.append(res[0])\n",
    "        kendall_ps.append(res[1])\n",
    "        \n",
    "        res = stats.spearmanr(x1, x2)\n",
    "        spearman_coefs.append(res[0])\n",
    "        spearman_ps.append(res[1])\n",
    "        \n",
    "        distance_corr.append(1- spatial.distance.correlation(x1,x2))\n",
    "        \n",
    "        alignment.append(dtw(x1, x2, distance_only=True).distance)\n",
    "        abs_err.append(abs(x1-x2))\n",
    "        \n",
    "    correlation_results = {\n",
    "        'pearson': (pearson_coefs, pearson_ps),\n",
    "        'kendall': (kendall_coefs, kendall_ps),\n",
    "        'spearman': (spearman_coefs, spearman_ps),\n",
    "        'DTW': alignment,\n",
    "        'Absolute Error': abs_err,\n",
    "        'Distance Correlation': distance_corr\n",
    "    }\n",
    "\n",
    "    return correlation_results\n",
    "\n",
    "for i, (train, test) in enumerate(zip(train_indices, test_indices)):\n",
    "    print(i)\n",
    "    train_data, train_label = spectrum[train], temperature[train]\n",
    "    test_data, test_label = spectrum[test], temp[test]\n",
    "    \n",
    "    mdl_name = PATH + 'model' + str(i)\n",
    "    mdl.load_state_dict(torch.load(mdl_name))\n",
    "    mdl.eval()\n",
    "    \n",
    "    correlation_loss = calculate_correlation(mdl, test_data, test_label)\n",
    "    correlation_losses.append(correlation_loss)\n",
    "for key in correlation_losses[0].keys():\n",
    "    print(key)\n",
    "    if key=='Absolute Error':\n",
    "        errors = []\n",
    "        for d in correlation_losses:\n",
    "            errors+=np.concatenate(d[key]).ravel().tolist()\n",
    "        #percentile\n",
    "        percentiles = [5, 50, 90, 95, 99]\n",
    "        for p in percentiles:\n",
    "            print(p)\n",
    "            print(np.percentile(errors, p))\n",
    "    else:\n",
    "        stat, p = [], []\n",
    "        for d in correlation_losses:\n",
    "            if key=='DTW' or key=='Distance Correlation':\n",
    "                stat+=d[key]\n",
    "            else:\n",
    "                stat+=d[key][0]\n",
    "                p+=d[key][1]\n",
    "        print(np.mean(stat),np.std(stat))\n",
    "        if len(p)>0:\n",
    "            print(np.mean(p),np.std(p))"
   ]
  }
 ],
 "metadata": {
  "kernelspec": {
   "display_name": "Python 3 (ipykernel)",
   "language": "python",
   "name": "python3"
  },
  "language_info": {
   "codemirror_mode": {
    "name": "ipython",
    "version": 3
   },
   "file_extension": ".py",
   "mimetype": "text/x-python",
   "name": "python",
   "nbconvert_exporter": "python",
   "pygments_lexer": "ipython3",
   "version": "3.10.9"
  }
 },
 "nbformat": 4,
 "nbformat_minor": 5
}
