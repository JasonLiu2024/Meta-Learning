{
 "cells": [
  {
   "cell_type": "code",
   "execution_count": 3,
   "metadata": {},
   "outputs": [],
   "source": [
    "import tensorflow as tf\n",
    "import numpy as np\n",
    "import importlib as imp"
   ]
  },
  {
   "cell_type": "code",
   "execution_count": null,
   "metadata": {},
   "outputs": [],
   "source": [
    "# # Meta-training\n",
    "# $ python main.py \\\n",
    "#   --gpu_id 0 \\\n",
    "#   --savedir \"./results/cifar/taml\" --id_dataset 'cifar' --ood_dataset 'svhn' \\\n",
    "#   --mode 'meta_train' --metabatch 4 --n_steps 5 --way 5 --max_shot 50 --query 15 \\\n",
    "#   --n_train_iters 50000 --meta_lr 1e-3 \\\n",
    "#   --alpha_on --omega_on --gamma_on --z_on\n",
    "# Meta-testing\n",
    "# $ python main.py \\\n",
    "#   --gpu_id 0 \\\n",
    "#   --savedir \"./results/cifar/taml\" --id_dataset 'cifar' --ood_dataset 'svhn' \\\n",
    "#   --mode 'meta_test' --metabatch 4 --n_steps 10 --way 5 --max_shot 50 --query 15 \\\n",
    "#   --n_test_episodes 1000 \\\n",
    "#   --alpha_on --omega_on --gamma_on --z_on --n_mc_samples 10"
   ]
  },
  {
   "cell_type": "code",
   "execution_count": null,
   "metadata": {},
   "outputs": [],
   "source": [
    "class Arg():\n",
    "    def __init__(self):\n",
    "        self.mode = 'meta_train'\n",
    "        self.savedir = \"./results/cifar/taml\"\n",
    "        self.id_dataset = 'cifar'\n",
    "        self.ood_dataset = 'svhn'\n",
    "        self.n_train_iters = 100\n",
    "        self.meta_lr = 1e-3\n",
    "        self.alpha_on = True\n",
    "        self.omega_on\n"
   ]
  }
 ],
 "metadata": {
  "kernelspec": {
   "display_name": "learningtobalance",
   "language": "python",
   "name": "python3"
  },
  "language_info": {
   "codemirror_mode": {
    "name": "ipython",
    "version": 3
   },
   "file_extension": ".py",
   "mimetype": "text/x-python",
   "name": "python",
   "nbconvert_exporter": "python",
   "pygments_lexer": "ipython3",
   "version": "3.5.6"
  },
  "orig_nbformat": 4
 },
 "nbformat": 4,
 "nbformat_minor": 2
}
