{
 "cells": [
  {
   "cell_type": "markdown",
   "metadata": {},
   "source": [
    "### <b> Model-Agnostic Meta Learning algorithm (MAML) </b>"
   ]
  },
  {
   "cell_type": "code",
   "execution_count": 1,
   "metadata": {},
   "outputs": [
    {
     "name": "stderr",
     "output_type": "stream",
     "text": [
      "2023-10-09 16:47:13.929838: I tensorflow/core/platform/cpu_feature_guard.cc:182] This TensorFlow binary is optimized to use available CPU instructions in performance-critical operations.\n",
      "To enable the following instructions: SSE4.1 SSE4.2 AVX AVX2 FMA, in other operations, rebuild TensorFlow with the appropriate compiler flags.\n"
     ]
    }
   ],
   "source": [
    "\"\"\"setup information\"\"\"\n",
    "import torch\n",
    "import matplotlib.pyplot as plt\n",
    "import maml\n",
    "import Data\n",
    "import importlib as imp\n",
    "import numpy as np\n",
    "import encoder\n",
    "\"\"\"dataset split as specified by the authors\"\"\"\n",
    "train_class_names = [\n",
    "    'train', 'skyscraper', 'turtle', 'raccoon', 'spider', 'orange', 'castle', 'keyboard',\n",
    "    'clock', 'pear', 'girl', 'seal', 'elephant', 'apple', 'aquarium_fish', 'bus',\n",
    "    'mushroom', 'possum', 'squirrel', 'chair', 'tank', 'plate', 'wolf', 'road', 'mouse',\n",
    "    'boy', 'shrew', 'couch', 'sunflower', 'tiger', 'caterpillar', 'lion', 'streetcar',\n",
    "    'lawn_mower', 'tulip', 'forest', 'dolphin', 'cockroach', 'bear', 'porcupine', 'bee',\n",
    "    'hamster', 'lobster', 'bowl', 'can', 'bottle', 'trout', 'snake', 'bridge',\n",
    "    'pine_tree', 'skunk', 'lizard', 'cup', 'kangaroo', 'oak_tree', 'dinosaur', 'rabbit',\n",
    "    'orchid', 'willow_tree', 'ray', 'palm_tree', 'mountain', 'house', 'cloud'\n",
    "    ]\n",
    "valid_class_names = [\n",
    "    'otter', 'motorcycle', 'television', 'lamp', 'crocodile', 'shark', 'butterfly', 'sea',\n",
    "    'beaver', 'beetle', 'tractor', 'flatfish', 'maple_tree', 'camel', 'crab', 'cattle'\n",
    "    ]\n",
    "test_class_names = [\n",
    "    'baby', 'bed', 'bicycle', 'chimpanzee', 'fox', 'leopard', 'man', 'pickup_truck',\n",
    "    'plain', 'poppy', 'rocket', 'rose', 'snail', 'sweet_pepper', 'table', 'telephone',\n",
    "    'wardrobe', 'whale', 'woman', 'worm'\n",
    "    ]"
   ]
  },
  {
   "cell_type": "code",
   "execution_count": null,
   "metadata": {},
   "outputs": [],
   "source": [
    "\"\"\"setup information\"\"\"\n",
    "import torch\n",
    "import matplotlib.pyplot as plt\n",
    "import maml\n",
    "import Data\n",
    "import importlib as imp\n",
    "import numpy as np\n",
    "import encoder\n",
    "\"\"\"dataset split as specified by the authors\"\"\"\n",
    "train_class_names = [\n",
    "    'train', 'skyscraper', 'turtle', 'raccoon', 'spider', 'orange', 'castle', 'keyboard',\n",
    "    'clock', 'pear', 'girl', 'seal', 'elephant', 'apple', 'aquarium_fish', 'bus',\n",
    "    'mushroom', 'possum', 'squirrel', 'chair', 'tank', 'plate', 'wolf', 'road', 'mouse',\n",
    "    'boy', 'shrew', 'couch', 'sunflower', 'tiger', 'caterpillar', 'lion', 'streetcar',\n",
    "    'lawn_mower', 'tulip', 'forest', 'dolphin', 'cockroach', 'bear', 'porcupine', 'bee',\n",
    "    'hamster', 'lobster', 'bowl', 'can', 'bottle', 'trout', 'snake', 'bridge',\n",
    "    'pine_tree', 'skunk', 'lizard', 'cup', 'kangaroo', 'oak_tree', 'dinosaur', 'rabbit',\n",
    "    'orchid', 'willow_tree', 'ray', 'palm_tree', 'mountain', 'house', 'cloud'\n",
    "    ]\n",
    "valid_class_names = [\n",
    "    'otter', 'motorcycle', 'television', 'lamp', 'crocodile', 'shark', 'butterfly', 'sea',\n",
    "    'beaver', 'beetle', 'tractor', 'flatfish', 'maple_tree', 'camel', 'crab', 'cattle'\n",
    "    ]\n",
    "test_class_names = [\n",
    "    'baby', 'bed', 'bicycle', 'chimpanzee', 'fox', 'leopard', 'man', 'pickup_truck',\n",
    "    'plain', 'poppy', 'rocket', 'rose', 'snail', 'sweet_pepper', 'table', 'telephone',\n",
    "    'wardrobe', 'whale', 'woman', 'worm'\n",
    "    ]"
   ]
  },
  {
   "cell_type": "code",
   "execution_count": 2,
   "metadata": {},
   "outputs": [
    {
     "name": "stdout",
     "output_type": "stream",
     "text": [
      "torch.Size([250, 3, 32, 32])\n",
      "torch.Size([250])\n",
      "Omega: None\n",
      "Gamma, a dictionary\n",
      "\tconvolution_weight0, shape: torch.Size([1])\n",
      "\tconvolution_bias0, shape: torch.Size([1])\n",
      "\tconvolution_weight1, shape: torch.Size([1])\n",
      "\tconvolution_bias1, shape: torch.Size([1])\n",
      "\tconvolution_weight2, shape: torch.Size([1])\n",
      "\tconvolution_bias2, shape: torch.Size([1])\n",
      "\tconvolution_weight3, shape: torch.Size([1])\n",
      "\tconvolution_bias3, shape: torch.Size([1])\n",
      "\tlinear_weight, shape: torch.Size([1])\n",
      "\tlinear_bias, shape: torch.Size([1])\n",
      "Zeta, a dictionary\n",
      "\tconvolution_weight0, shape: torch.Size([32])\n",
      "\tconvolution_bias0, shape: torch.Size([32])\n",
      "\tconvolution_weight1, shape: torch.Size([32])\n",
      "\tconvolution_bias1, shape: torch.Size([32])\n",
      "\tconvolution_weight2, shape: torch.Size([32])\n",
      "\tconvolution_bias2, shape: torch.Size([32])\n",
      "\tconvolution_weight3, shape: torch.Size([32])\n",
      "\tconvolution_bias3, shape: torch.Size([32])\n",
      "KL: 44.35560989379883\n"
     ]
    }
   ],
   "source": [
    "import encoder_mod\n",
    "imp.reload(encoder_mod)\n",
    "nn1 = encoder_mod.InferenceNetwork(number_of_ways=5, max_shots=9, input_channels=3, hidden_channels=10,\n",
    "                                   use_omega=False, use_gamma=True, use_zeta=True)\n",
    "nn1.to('cuda')\n",
    "import Data\n",
    "dl = Data.get_dataloader(train_class_names, 50, 15, 5, 9, 4, False)\n",
    "# x = torch.ones(size=(7, 3, 32, 32))\n",
    "# y = torch.zeros(size=(7, 1))\n",
    "for i, task_batch in enumerate(dl):\n",
    "    for task in task_batch:\n",
    "        x, y, _, _ = task\n",
    "        print(x.shape)\n",
    "        print(y.shape)\n",
    "        # print(y)\n",
    "        omega, gamma, zeta, KL = nn1(incoming=x, labels=y[:, None], we_are_training=True)\n",
    "        print(f\"Omega: {omega}\")\n",
    "        print(f\"Gamma, a dictionary\")\n",
    "        for layer_name in gamma.keys():\n",
    "            print(f\"\\t{layer_name}, shape: {gamma[layer_name].shape}\")\n",
    "        print(f\"Zeta, a dictionary\")\n",
    "        for layer_name in zeta.keys():\n",
    "            print(f\"\\t{layer_name}, shape: {zeta[layer_name].shape}\")\n",
    "        print(f\"KL: {KL}\")\n",
    "        break\n",
    "    break"
   ]
  }
 ],
 "metadata": {
  "kernelspec": {
   "display_name": "new",
   "language": "python",
   "name": "python3"
  },
  "language_info": {
   "codemirror_mode": {
    "name": "ipython",
    "version": 3
   },
   "file_extension": ".py",
   "mimetype": "text/x-python",
   "name": "python",
   "nbconvert_exporter": "python",
   "pygments_lexer": "ipython3",
   "version": "3.11.3"
  },
  "orig_nbformat": 4
 },
 "nbformat": 4,
 "nbformat_minor": 2
}
