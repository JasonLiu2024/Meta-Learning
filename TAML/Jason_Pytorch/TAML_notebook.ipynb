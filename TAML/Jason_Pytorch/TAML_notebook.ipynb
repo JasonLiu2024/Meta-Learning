{
 "cells": [
  {
   "cell_type": "markdown",
   "metadata": {},
   "source": [
    "### <b> Bayesian Task-Adaptive Meta Learning algorithm (Bayesian TAML) </b>"
   ]
  },
  {
   "cell_type": "code",
   "execution_count": 2,
   "metadata": {},
   "outputs": [],
   "source": [
    "\"\"\"setup information\"\"\"\n",
    "import torch\n",
    "import matplotlib.pyplot as plt\n",
    "import TAML_code\n",
    "import Data\n",
    "import importlib as imp\n",
    "import numpy as np\n",
    "import encoder\n",
    "\"\"\"dataset split as specified by the authors\"\"\"\n",
    "train_class_names = [\n",
    "    'train', 'skyscraper', 'turtle', 'raccoon', 'spider', 'orange', 'castle', 'keyboard',\n",
    "    'clock', 'pear', 'girl', 'seal', 'elephant', 'apple', 'aquarium_fish', 'bus',\n",
    "    'mushroom', 'possum', 'squirrel', 'chair', 'tank', 'plate', 'wolf', 'road', 'mouse',\n",
    "    'boy', 'shrew', 'couch', 'sunflower', 'tiger', 'caterpillar', 'lion', 'streetcar',\n",
    "    'lawn_mower', 'tulip', 'forest', 'dolphin', 'cockroach', 'bear', 'porcupine', 'bee',\n",
    "    'hamster', 'lobster', 'bowl', 'can', 'bottle', 'trout', 'snake', 'bridge',\n",
    "    'pine_tree', 'skunk', 'lizard', 'cup', 'kangaroo', 'oak_tree', 'dinosaur', 'rabbit',\n",
    "    'orchid', 'willow_tree', 'ray', 'palm_tree', 'mountain', 'house', 'cloud'\n",
    "    ]\n",
    "valid_class_names = [\n",
    "    'otter', 'motorcycle', 'television', 'lamp', 'crocodile', 'shark', 'butterfly', 'sea',\n",
    "    'beaver', 'beetle', 'tractor', 'flatfish', 'maple_tree', 'camel', 'crab', 'cattle'\n",
    "    ]\n",
    "test_class_names = [\n",
    "    'baby', 'bed', 'bicycle', 'chimpanzee', 'fox', 'leopard', 'man', 'pickup_truck',\n",
    "    'plain', 'poppy', 'rocket', 'rose', 'snail', 'sweet_pepper', 'table', 'telephone',\n",
    "    'wardrobe', 'whale', 'woman', 'worm'\n",
    "    ]"
   ]
  },
  {
   "cell_type": "code",
   "execution_count": 2,
   "metadata": {},
   "outputs": [
    {
     "ename": "NameError",
     "evalue": "name 'imp' is not defined",
     "output_type": "error",
     "traceback": [
      "\u001b[0;31m---------------------------------------------------------------------------\u001b[0m",
      "\u001b[0;31mNameError\u001b[0m                                 Traceback (most recent call last)",
      "Cell \u001b[0;32mIn[2], line 1\u001b[0m\n\u001b[0;32m----> 1\u001b[0m imp\u001b[39m.\u001b[39mreload(TAML_code)\n\u001b[1;32m      2\u001b[0m imp\u001b[39m.\u001b[39mreload(encoder)\n\u001b[1;32m      3\u001b[0m imp\u001b[39m.\u001b[39mreload(Data)\n",
      "\u001b[0;31mNameError\u001b[0m: name 'imp' is not defined"
     ]
    }
   ],
   "source": [
    "imp.reload(TAML_code)\n",
    "imp.reload(encoder)\n",
    "imp.reload(Data)\n",
    "number_of_inner_gradient_steps: int = 5\n",
    "ways: int = 5\n",
    "max_shots: int = 50\n",
    "query: int = 15\n",
    "iterations = 100 # epochs， 1000\n",
    "inner_learning_rate: float = 0.5\n",
    "outer_learning_rate: float = 1e-2\n",
    "batch_size = 4 # how many tasks in this batch\n",
    "total_train_task = batch_size * iterations\n",
    "total_valid_task = batch_size * int(iterations * 0.1)\n",
    "total_test_task = 60 # 600\n",
    "imbalance = True\n",
    "image = None\n",
    "label = None\n",
    "dataloader_train=Data.get_dataloader(train_class_names, max_shots, query, ways, total_train_task, batch_size, imbalance)\n",
    "for i, task_batch in enumerate(dataloader_train):\n",
    "    print(f\"i: {i}\")\n",
    "    for t, task in enumerate(task_batch):\n",
    "        print(f\"\\tt: {t}\")\n",
    "        img_supp, lbl_supp, img_quer, lbl_quer = task\n",
    "        image = img_supp[0]\n",
    "        label = lbl_supp[0]\n",
    "        break\n",
    "    break\n",
    "f, ax = plt.subplots(figsize=(8, 8))\n",
    "ax.imshow(image.cpu().numpy().reshape([32, 32, 3]).astype(int))\n",
    "ax.set_title(\"label\")"
   ]
  },
  {
   "cell_type": "code",
   "execution_count": 4,
   "metadata": {},
   "outputs": [
    {
     "name": "stdout",
     "output_type": "stream",
     "text": [
      "It's Training time! (start from iteration 0)\n"
     ]
    },
    {
     "ename": "OutOfMemoryError",
     "evalue": "CUDA out of memory. Tried to allocate 64.00 MiB (GPU 0; 47.54 GiB total capacity; 16.89 GiB already allocated; 14.75 MiB free; 17.31 GiB reserved in total by PyTorch) If reserved memory is >> allocated memory try setting max_split_size_mb to avoid fragmentation.  See documentation for Memory Management and PYTORCH_CUDA_ALLOC_CONF",
     "output_type": "error",
     "traceback": [
      "\u001b[0;31m---------------------------------------------------------------------------\u001b[0m",
      "\u001b[0;31mOutOfMemoryError\u001b[0m                          Traceback (most recent call last)",
      "Cell \u001b[0;32mIn[4], line 23\u001b[0m\n\u001b[1;32m     18\u001b[0m m \u001b[39m=\u001b[39m TAML_code\u001b[39m.\u001b[39mTAML(output_dimension\u001b[39m=\u001b[39mways, inner_loop_step_ct\u001b[39m=\u001b[39mnumber_of_inner_gradient_steps,\n\u001b[1;32m     19\u001b[0m     inner_learning_rate\u001b[39m=\u001b[39minner_learning_rate, learn_inner_learning_rate\u001b[39m=\u001b[39m\u001b[39mFalse\u001b[39;00m, \n\u001b[1;32m     20\u001b[0m     outer_learning_rate\u001b[39m=\u001b[39mouter_learning_rate, batch_size\u001b[39m=\u001b[39mbatch_size,\n\u001b[1;32m     21\u001b[0m     encoder\u001b[39m=\u001b[39mencoder\u001b[39m.\u001b[39mInferenceNetwork(ways, max_shots, \u001b[39m'\u001b[39m\u001b[39mcifar\u001b[39m\u001b[39m'\u001b[39m, \u001b[39mFalse\u001b[39;00m, \u001b[39mFalse\u001b[39;00m, \u001b[39mFalse\u001b[39;00m))\n\u001b[1;32m     22\u001b[0m \u001b[39m# m._view_model(m._meta_parameters)\u001b[39;00m\n\u001b[0;32m---> 23\u001b[0m train_loss, train_accuracy, valid_loss, valid_accuracy \u001b[39m=\u001b[39m m\u001b[39m.\u001b[39;49mtrain(\n\u001b[1;32m     24\u001b[0m     dataloader_train\u001b[39m=\u001b[39;49mData\u001b[39m.\u001b[39;49mget_dataloader(train_class_names, max_shots, query, ways, total_train_task, batch_size, imbalance),\n\u001b[1;32m     25\u001b[0m     dataloader_valid\u001b[39m=\u001b[39;49mData\u001b[39m.\u001b[39;49mget_dataloader(valid_class_names, max_shots, query, ways, total_valid_task, batch_size, imbalance),\n\u001b[1;32m     26\u001b[0m     valid_interval\u001b[39m=\u001b[39;49mvalid_interval)\n\u001b[1;32m     27\u001b[0m test_loss, test_accuracy \u001b[39m=\u001b[39m m\u001b[39m.\u001b[39mtest( \n\u001b[1;32m     28\u001b[0m     dataloader_test \u001b[39m=\u001b[39mData\u001b[39m.\u001b[39mget_dataloader(test_class_names,  max_shots, query, ways, total_valid_task, batch_size, imbalance))\n\u001b[1;32m     29\u001b[0m \u001b[39m# plot results:\u001b[39;00m\n",
      "File \u001b[0;32m~/ml/LearningToBalance_pytorch/Jason_Pytorch/TAML_code.py:271\u001b[0m, in \u001b[0;36mTAML.train\u001b[0;34m(self, dataloader_train, dataloader_valid, valid_interval)\u001b[0m\n\u001b[1;32m    265\u001b[0m \u001b[39mfor\u001b[39;00m iteration, train_task_batch \u001b[39min\u001b[39;00m \u001b[39menumerate\u001b[39m(\n\u001b[1;32m    266\u001b[0m         dataloader_train,\n\u001b[1;32m    267\u001b[0m         start\u001b[39m=\u001b[39m\u001b[39mself\u001b[39m\u001b[39m.\u001b[39m_start_train_step \u001b[39m# in case we're picking up from somewhere\u001b[39;00m\n\u001b[1;32m    268\u001b[0m ):\n\u001b[1;32m    269\u001b[0m     \u001b[39mself\u001b[39m\u001b[39m.\u001b[39m_optimizer\u001b[39m.\u001b[39mzero_grad()\n\u001b[1;32m    270\u001b[0m     train_loss_batch, train_accuracy_suppt, train_accuracy_query \u001b[39m=\u001b[39m (\n\u001b[0;32m--> 271\u001b[0m         \u001b[39mself\u001b[39;49m\u001b[39m.\u001b[39;49m_outer_step(train_task_batch, train\u001b[39m=\u001b[39;49m\u001b[39mTrue\u001b[39;49;00m) \u001b[39m# Yes training\u001b[39;00m\n\u001b[1;32m    272\u001b[0m     )\n\u001b[1;32m    273\u001b[0m     train_loss_batch\u001b[39m.\u001b[39mbackward()\n\u001b[1;32m    274\u001b[0m     \u001b[39mself\u001b[39m\u001b[39m.\u001b[39m_optimizer\u001b[39m.\u001b[39mstep()\n",
      "File \u001b[0;32m~/ml/LearningToBalance_pytorch/Jason_Pytorch/TAML_code.py:237\u001b[0m, in \u001b[0;36mTAML._outer_step\u001b[0;34m(self, task_batch, train)\u001b[0m\n\u001b[1;32m    235\u001b[0m \u001b[39m# adapt parameters from support set\u001b[39;00m\n\u001b[1;32m    236\u001b[0m \u001b[39m\u001b[39m\u001b[39m\"\"\"inner loop start\"\"\"\u001b[39;00m\n\u001b[0;32m--> 237\u001b[0m parameters, accuracy_suppt \u001b[39m=\u001b[39m \u001b[39mself\u001b[39;49m\u001b[39m.\u001b[39;49m_inner_loop(\n\u001b[1;32m    238\u001b[0m     images_suppt, labels_suppt, train, omega, zeta, gamma)\n\u001b[1;32m    239\u001b[0m \u001b[39m# make predictions, using those updated parameters\u001b[39;00m\n\u001b[1;32m    240\u001b[0m predictions \u001b[39m=\u001b[39m \u001b[39mself\u001b[39m\u001b[39m.\u001b[39m_forward(images_query, parameters)\n",
      "File \u001b[0;32m~/ml/LearningToBalance_pytorch/Jason_Pytorch/TAML_code.py:194\u001b[0m, in \u001b[0;36mTAML._inner_loop\u001b[0;34m(self, images_suppt, labels, train, omega, zeta, gamma)\u001b[0m\n\u001b[1;32m    183\u001b[0m     loss \u001b[39m=\u001b[39m \u001b[39mself\u001b[39m\u001b[39m.\u001b[39m_omega_modify_inner_loss(omega, loss)\n\u001b[1;32m    184\u001b[0m \u001b[39m# get grads, the gradient of the loss\u001b[39;00m\n\u001b[1;32m    185\u001b[0m \u001b[39m# we're Always doing a backpropagation here, since we need it to adapt to the current task\u001b[39;00m\n\u001b[1;32m    186\u001b[0m \u001b[39m# BUT:\u001b[39;00m\n\u001b[0;32m   (...)\u001b[0m\n\u001b[1;32m    192\u001b[0m \u001b[39m# this is why we use .grad (.backward() just populates tensors' .grad field)\u001b[39;00m\n\u001b[1;32m    193\u001b[0m \u001b[39m# https://discuss.pytorch.org/t/whats-the-difference-between-torch-autograd-grad-and-backward/94638\u001b[39;00m\n\u001b[0;32m--> 194\u001b[0m grads \u001b[39m=\u001b[39m torch\u001b[39m.\u001b[39;49mautograd\u001b[39m.\u001b[39;49mgrad( \u001b[39m# type-check complains, but this works\u001b[39;49;00m\n\u001b[1;32m    195\u001b[0m     loss, parameters\u001b[39m.\u001b[39;49mvalues(), create_graph\u001b[39m=\u001b[39;49mtrain)\n\u001b[1;32m    196\u001b[0m \u001b[39m# update parameters (manually)\u001b[39;00m\n\u001b[1;32m    197\u001b[0m \u001b[39mfor\u001b[39;00m (layer_name, tensor), grad \u001b[39min\u001b[39;00m \u001b[39mzip\u001b[39m(parameters\u001b[39m.\u001b[39mitems(), grads):\n",
      "File \u001b[0;32m~/anaconda3/envs/new/lib/python3.11/site-packages/torch/autograd/__init__.py:303\u001b[0m, in \u001b[0;36mgrad\u001b[0;34m(outputs, inputs, grad_outputs, retain_graph, create_graph, only_inputs, allow_unused, is_grads_batched)\u001b[0m\n\u001b[1;32m    301\u001b[0m     \u001b[39mreturn\u001b[39;00m _vmap_internals\u001b[39m.\u001b[39m_vmap(vjp, \u001b[39m0\u001b[39m, \u001b[39m0\u001b[39m, allow_none_pass_through\u001b[39m=\u001b[39m\u001b[39mTrue\u001b[39;00m)(grad_outputs_)\n\u001b[1;32m    302\u001b[0m \u001b[39melse\u001b[39;00m:\n\u001b[0;32m--> 303\u001b[0m     \u001b[39mreturn\u001b[39;00m Variable\u001b[39m.\u001b[39;49m_execution_engine\u001b[39m.\u001b[39;49mrun_backward(  \u001b[39m# Calls into the C++ engine to run the backward pass\u001b[39;49;00m\n\u001b[1;32m    304\u001b[0m         t_outputs, grad_outputs_, retain_graph, create_graph, t_inputs,\n\u001b[1;32m    305\u001b[0m         allow_unused, accumulate_grad\u001b[39m=\u001b[39;49m\u001b[39mFalse\u001b[39;49;00m)\n",
      "\u001b[0;31mOutOfMemoryError\u001b[0m: CUDA out of memory. Tried to allocate 64.00 MiB (GPU 0; 47.54 GiB total capacity; 16.89 GiB already allocated; 14.75 MiB free; 17.31 GiB reserved in total by PyTorch) If reserved memory is >> allocated memory try setting max_split_size_mb to avoid fragmentation.  See documentation for Memory Management and PYTORCH_CUDA_ALLOC_CONF"
     ]
    }
   ],
   "source": [
    "# to run: jupyter nbconvert --execute --to notebook TAML_notebook.ipynb\n",
    "imp.reload(TAML_code)\n",
    "imp.reload(encoder)\n",
    "imp.reload(Data)\n",
    "number_of_inner_gradient_steps: int = 5\n",
    "ways: int = 5 # 5\n",
    "max_shots: int = 50 # 50\n",
    "query: int = 15 # 15\n",
    "iterations = 100 # epochs， 1000\n",
    "inner_learning_rate: float = 0.5\n",
    "outer_learning_rate: float = 1e-3\n",
    "batch_size = 4 # how many tasks in this batch\n",
    "total_train_task = batch_size * iterations\n",
    "valid_interval = 50\n",
    "total_valid_task = batch_size * int(iterations / valid_interval)\n",
    "total_test_task = 600 # 600\n",
    "imbalance = True\n",
    "m = TAML_code.TAML(output_dimension=ways, inner_loop_step_ct=number_of_inner_gradient_steps,\n",
    "    inner_learning_rate=inner_learning_rate, learn_inner_learning_rate=False, \n",
    "    outer_learning_rate=outer_learning_rate, batch_size=batch_size,\n",
    "    encoder=encoder.InferenceNetwork(ways, max_shots, 'cifar', False, False, False))\n",
    "# m._view_model(m._meta_parameters)\n",
    "train_loss, train_accuracy, valid_loss, valid_accuracy = m.train(\n",
    "    dataloader_train=Data.get_dataloader(train_class_names, max_shots, query, ways, total_train_task, batch_size, imbalance),\n",
    "    dataloader_valid=Data.get_dataloader(valid_class_names, max_shots, query, ways, total_valid_task, batch_size, imbalance),\n",
    "    valid_interval=valid_interval)\n",
    "test_loss, test_accuracy = m.test( \n",
    "    dataloader_test =Data.get_dataloader(test_class_names,  max_shots, query, ways, total_valid_task, batch_size, imbalance))\n",
    "# plot results:\n",
    "f, ax = plt.subplots(figsize=(32, 16), nrows=2, ncols=2)\n",
    "# plot train\n",
    "ax[0, 0].plot(train_loss)\n",
    "ax[0, 0].set_title(\"train loss\")\n",
    "ax[1, 0].plot(train_accuracy)\n",
    "ax[1, 0].set_title(\"train accuracy\")\n",
    "# plot valid\n",
    "ax[0, 1].plot(valid_loss)\n",
    "ax[0, 1].set_title(\"valid loss\")\n",
    "ax[1, 1].plot(valid_accuracy)\n",
    "ax[1, 1].set_title(\"valid accuracy\")"
   ]
  }
 ],
 "metadata": {
  "kernelspec": {
   "display_name": "new",
   "language": "python",
   "name": "python3"
  },
  "language_info": {
   "codemirror_mode": {
    "name": "ipython",
    "version": 3
   },
   "file_extension": ".py",
   "mimetype": "text/x-python",
   "name": "python",
   "nbconvert_exporter": "python",
   "pygments_lexer": "ipython3",
   "version": "3.11.3"
  },
  "orig_nbformat": 4
 },
 "nbformat": 4,
 "nbformat_minor": 2
}
