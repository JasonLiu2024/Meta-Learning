{
 "cells": [
  {
   "cell_type": "markdown",
   "metadata": {},
   "source": [
    "### <b> CORRECT MAML code </b>"
   ]
  },
  {
   "cell_type": "code",
   "execution_count": 1,
   "metadata": {},
   "outputs": [
    {
     "name": "stderr",
     "output_type": "stream",
     "text": [
      "2023-09-23 18:50:28.258062: I tensorflow/core/platform/cpu_feature_guard.cc:182] This TensorFlow binary is optimized to use available CPU instructions in performance-critical operations.\n",
      "To enable the following instructions: SSE4.1 SSE4.2 AVX AVX2 FMA, in other operations, rebuild TensorFlow with the appropriate compiler flags.\n"
     ]
    }
   ],
   "source": [
    "\"\"\"setup information\"\"\"\n",
    "import torch\n",
    "import matplotlib.pyplot as plt\n",
    "import MAML_code\n",
    "import Data\n",
    "import importlib as imp\n",
    "train_class_names = [\n",
    "    'train', 'skyscraper', 'turtle', 'raccoon', 'spider', 'orange', 'castle', 'keyboard',\n",
    "    'clock', 'pear', 'girl', 'seal', 'elephant', 'apple', 'aquarium_fish', 'bus',\n",
    "    'mushroom', 'possum', 'squirrel', 'chair', 'tank', 'plate', 'wolf', 'road', 'mouse',\n",
    "    'boy', 'shrew', 'couch', 'sunflower', 'tiger', 'caterpillar', 'lion', 'streetcar',\n",
    "    'lawn_mower', 'tulip', 'forest', 'dolphin', 'cockroach', 'bear', 'porcupine', 'bee',\n",
    "    'hamster', 'lobster', 'bowl', 'can', 'bottle', 'trout', 'snake', 'bridge',\n",
    "    'pine_tree', 'skunk', 'lizard', 'cup', 'kangaroo', 'oak_tree', 'dinosaur', 'rabbit',\n",
    "    'orchid', 'willow_tree', 'ray', 'palm_tree', 'mountain', 'house', 'cloud'\n",
    "    ]\n",
    "valid_class_names = [\n",
    "    'otter', 'motorcycle', 'television', 'lamp', 'crocodile', 'shark', 'butterfly', 'sea',\n",
    "    'beaver', 'beetle', 'tractor', 'flatfish', 'maple_tree', 'camel', 'crab', 'cattle'\n",
    "    ]\n",
    "test_class_names = [\n",
    "    'baby', 'bed', 'bicycle', 'chimpanzee', 'fox', 'leopard', 'man', 'pickup_truck',\n",
    "    'plain', 'poppy', 'rocket', 'rose', 'snail', 'sweet_pepper', 'table', 'telephone',\n",
    "    'wardrobe', 'whale', 'woman', 'worm'\n",
    "    ]"
   ]
  },
  {
   "cell_type": "code",
   "execution_count": 6,
   "metadata": {},
   "outputs": [
    {
     "name": "stdout",
     "output_type": "stream",
     "text": [
      "Sampler indices: \n",
      "[90, 76, 93, 66, 79, 53, 17, 39, 22, 57, 35, 72, 31, 0, 1, 13, 51, 64, 80, 20, 85, 61, 97, 68, 50, 11, 74, 25, 82, 88, 18, 43, 81, 41, 92, 33, 30, 24, 3, 63, 6, 36, 45, 10, 16, 9, 91, 78, 12, 59, 75, 44, 28, 38, 52, 29, 65, 54, 96, 67, 56, 49, 37, 23]\n",
      "sampler: <generator object LearningToBalanceSampler.__iter__.<locals>.<genexpr> at 0x7f6ce44156c0>\n",
      "batch 0_____________________________________\n",
      "batch length: 3\n",
      "task: 0\n",
      "torch.Size([100, 3, 32, 32])\n",
      "torch.Size([100])\n",
      "torch.Size([35, 3, 32, 32])\n",
      "torch.Size([35])\n",
      "task: 1\n",
      "torch.Size([100, 3, 32, 32])\n",
      "torch.Size([100])\n",
      "torch.Size([35, 3, 32, 32])\n",
      "torch.Size([35])\n",
      "task: 2\n",
      "torch.Size([100, 3, 32, 32])\n",
      "torch.Size([100])\n",
      "torch.Size([35, 3, 32, 32])\n",
      "torch.Size([35])\n",
      "batch 1_____________________________________\n",
      "batch length: 3\n",
      "task: 0\n",
      "torch.Size([100, 3, 32, 32])\n",
      "torch.Size([100])\n",
      "torch.Size([35, 3, 32, 32])\n",
      "torch.Size([35])\n",
      "task: 1\n",
      "torch.Size([100, 3, 32, 32])\n",
      "torch.Size([100])\n",
      "torch.Size([35, 3, 32, 32])\n",
      "torch.Size([35])\n",
      "task: 2\n",
      "torch.Size([100, 3, 32, 32])\n",
      "torch.Size([100])\n",
      "torch.Size([35, 3, 32, 32])\n",
      "torch.Size([35])\n",
      "batch 2_____________________________________\n",
      "batch length: 3\n",
      "task: 0\n",
      "torch.Size([100, 3, 32, 32])\n",
      "torch.Size([100])\n",
      "torch.Size([35, 3, 32, 32])\n",
      "torch.Size([35])\n",
      "task: 1\n",
      "torch.Size([100, 3, 32, 32])\n",
      "torch.Size([100])\n",
      "torch.Size([35, 3, 32, 32])\n",
      "torch.Size([35])\n",
      "task: 2\n",
      "torch.Size([100, 3, 32, 32])\n",
      "torch.Size([100])\n",
      "torch.Size([35, 3, 32, 32])\n",
      "torch.Size([35])\n",
      "batch 3_____________________________________\n",
      "batch length: 3\n",
      "task: 0\n",
      "torch.Size([100, 3, 32, 32])\n",
      "torch.Size([100])\n",
      "torch.Size([35, 3, 32, 32])\n",
      "torch.Size([35])\n",
      "task: 1\n",
      "torch.Size([100, 3, 32, 32])\n",
      "torch.Size([100])\n",
      "torch.Size([35, 3, 32, 32])\n",
      "torch.Size([35])\n",
      "task: 2\n",
      "torch.Size([100, 3, 32, 32])\n",
      "torch.Size([100])\n",
      "torch.Size([35, 3, 32, 32])\n",
      "torch.Size([35])\n"
     ]
    }
   ],
   "source": [
    "imp.reload(Data)\n",
    "number_of_inner_gradient_steps: int = 5\n",
    "ways: int = 5\n",
    "shots: int = 20\n",
    "query: int = 7\n",
    "total_train_task = 12\n",
    "total_valid_task = 4\n",
    "total_test_task = 4\n",
    "inner_learning_rate: float = 1e-5\n",
    "outer_learning_rate: float = 1e-2\n",
    "batch_size = 3\n",
    "dl = Data.get_dataloader(train_class_names, shots, query, ways, total_train_task, batch_size)\n",
    "for step, task_batch in enumerate(dl):\n",
    "    print(f\"batch {step}_____________________________________\")\n",
    "    print(f\"batch length: {len(task_batch)}\")\n",
    "    for t, task in enumerate(task_batch):\n",
    "        print(f\"task: {t}\")\n",
    "        support_img, support_label, query_img, query_label = task\n",
    "        print(support_img.shape)\n",
    "        print(support_label.shape)\n",
    "        print(query_img.shape)\n",
    "        print(query_label.shape)\n",
    "    "
   ]
  },
  {
   "cell_type": "code",
   "execution_count": 7,
   "metadata": {},
   "outputs": [
    {
     "name": "stdout",
     "output_type": "stream",
     "text": [
      "Sampler indices: \n",
      "[90, 76, 93, 66, 79, 53, 17, 39, 22, 57, 35, 72, 31, 0, 1, 13, 51, 64, 80, 20, 85, 61, 97, 68, 50, 11, 74, 25, 82, 88, 18, 43, 81, 41, 92, 33, 30, 24, 3, 63, 6, 36, 45, 10, 16, 9, 91, 78, 12, 59, 75, 44, 28, 38, 52, 29, 65, 54, 96, 67, 56, 49, 37, 23]\n",
      "Sampler indices: \n",
      "[55, 48, 87, 40, 27, 73, 14, 71, 4, 7, 89, 32, 47, 15, 26, 19]\n",
      "Starting training at iteration 0.\n",
      "sampler: <generator object LearningToBalanceSampler.__iter__.<locals>.<genexpr> at 0x7f6ce44156c0>\n",
      "Iteration 0: loss: 1.879, pre-adaptation support accuracy: 0.042, post-adaptation support accuracy: 0.042, post-adaptation query accuracy: 0.157\n",
      "sampler: <generator object LearningToBalanceSampler.__iter__.<locals>.<genexpr> at 0x7f6ce4415b70>\n",
      "Validation: loss: 1.990, pre-adaptation support accuracy: 0.555, post-adaptation support accuracy: 0.557, post-adaptation query accuracy: 0.221\n"
     ]
    }
   ],
   "source": [
    "imp.reload(MAML_code)\n",
    "number_of_inner_gradient_steps: int = 5\n",
    "ways: int = 5\n",
    "shots: int = 20\n",
    "query: int = 7\n",
    "total_train_task = 12\n",
    "total_valid_task = 4\n",
    "total_test_task = 4\n",
    "inner_learning_rate: float = 1e-5\n",
    "outer_learning_rate: float = 1e-2\n",
    "batch_size = 4\n",
    "m = MAML_code.MAML(num_outputs=ways, num_inner_steps=number_of_inner_gradient_steps,\n",
    "              inner_lr = inner_learning_rate, learn_inner_lrs=True, outer_lr=outer_learning_rate, batch_size=batch_size)\n",
    "m.train(dataloader_train=Data.get_dataloader(train_class_names, shots, query, ways, total_train_task, batch_size),\n",
    "        dataloader_val=Data.get_dataloader(valid_class_names, shots, query, ways, total_valid_task, batch_size))"
   ]
  }
 ],
 "metadata": {
  "kernelspec": {
   "display_name": "new",
   "language": "python",
   "name": "python3"
  },
  "language_info": {
   "codemirror_mode": {
    "name": "ipython",
    "version": 3
   },
   "file_extension": ".py",
   "mimetype": "text/x-python",
   "name": "python",
   "nbconvert_exporter": "python",
   "pygments_lexer": "ipython3",
   "version": "3.11.3"
  },
  "orig_nbformat": 4
 },
 "nbformat": 4,
 "nbformat_minor": 2
}
