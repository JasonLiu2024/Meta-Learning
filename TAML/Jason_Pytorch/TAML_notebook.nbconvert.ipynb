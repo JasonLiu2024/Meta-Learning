{
 "cells": [
  {
   "cell_type": "markdown",
   "metadata": {},
   "source": [
    "### <b> Bayesian Task-Adaptive Meta Learning algorithm (Bayesian TAML) </b>"
   ]
  },
  {
   "cell_type": "code",
   "execution_count": 2,
   "metadata": {
    "execution": {
     "iopub.execute_input": "2023-09-24T20:44:40.327787Z",
     "iopub.status.busy": "2023-09-24T20:44:40.327695Z",
     "iopub.status.idle": "2023-09-24T20:44:41.377727Z",
     "shell.execute_reply": "2023-09-24T20:44:41.377390Z"
    }
   },
   "outputs": [],
   "source": [
    "\"\"\"setup information\"\"\"\n",
    "import torch\n",
    "import matplotlib.pyplot as plt\n",
    "import TAML_code\n",
    "import Data\n",
    "import importlib as imp\n",
    "import numpy as np\n",
    "import encoder\n",
    "\"\"\"dataset split as specified by the authors\"\"\"\n",
    "train_class_names = [\n",
    "    'train', 'skyscraper', 'turtle', 'raccoon', 'spider', 'orange', 'castle', 'keyboard',\n",
    "    'clock', 'pear', 'girl', 'seal', 'elephant', 'apple', 'aquarium_fish', 'bus',\n",
    "    'mushroom', 'possum', 'squirrel', 'chair', 'tank', 'plate', 'wolf', 'road', 'mouse',\n",
    "    'boy', 'shrew', 'couch', 'sunflower', 'tiger', 'caterpillar', 'lion', 'streetcar',\n",
    "    'lawn_mower', 'tulip', 'forest', 'dolphin', 'cockroach', 'bear', 'porcupine', 'bee',\n",
    "    'hamster', 'lobster', 'bowl', 'can', 'bottle', 'trout', 'snake', 'bridge',\n",
    "    'pine_tree', 'skunk', 'lizard', 'cup', 'kangaroo', 'oak_tree', 'dinosaur', 'rabbit',\n",
    "    'orchid', 'willow_tree', 'ray', 'palm_tree', 'mountain', 'house', 'cloud'\n",
    "    ]\n",
    "valid_class_names = [\n",
    "    'otter', 'motorcycle', 'television', 'lamp', 'crocodile', 'shark', 'butterfly', 'sea',\n",
    "    'beaver', 'beetle', 'tractor', 'flatfish', 'maple_tree', 'camel', 'crab', 'cattle'\n",
    "    ]\n",
    "test_class_names = [\n",
    "    'baby', 'bed', 'bicycle', 'chimpanzee', 'fox', 'leopard', 'man', 'pickup_truck',\n",
    "    'plain', 'poppy', 'rocket', 'rose', 'snail', 'sweet_pepper', 'table', 'telephone',\n",
    "    'wardrobe', 'whale', 'woman', 'worm'\n",
    "    ]"
   ]
  },
  {
   "cell_type": "code",
   "execution_count": 4,
   "metadata": {
    "execution": {
     "iopub.execute_input": "2023-09-24T20:44:41.379446Z",
     "iopub.status.busy": "2023-09-24T20:44:41.379261Z",
     "iopub.status.idle": "2023-09-25T00:49:18.193876Z",
     "shell.execute_reply": "2023-09-25T00:49:18.193556Z"
    }
   },
   "outputs": [
    {
     "name": "stdout",
     "output_type": "stream",
     "text": [
      "It's Training time! (start from iteration 0)\n",
      "\tIt's Validating time! iteration 0\n",
      "\tIt's Validating time! iteration 8\n",
      "\tIt's Validating time! iteration 16\n",
      "\tIt's Validating time! iteration 24\n"
     ]
    },
    {
     "ename": "KeyboardInterrupt",
     "evalue": "",
     "output_type": "error",
     "traceback": [
      "\u001b[0;31m---------------------------------------------------------------------------\u001b[0m",
      "\u001b[0;31mKeyboardInterrupt\u001b[0m                         Traceback (most recent call last)",
      "Cell \u001b[0;32mIn[4], line 26\u001b[0m\n\u001b[1;32m     20\u001b[0m m \u001b[39m=\u001b[39m TAML_code\u001b[39m.\u001b[39mTAML(output_dimension\u001b[39m=\u001b[39mways, max_shots\u001b[39m=\u001b[39mmax_shots,\n\u001b[1;32m     21\u001b[0m     inner_loop_step_ct\u001b[39m=\u001b[39mnumber_of_inner_gradient_steps,\n\u001b[1;32m     22\u001b[0m     inner_learning_rate\u001b[39m=\u001b[39minner_learning_rate, learn_inner_learning_rate\u001b[39m=\u001b[39m\u001b[39mTrue\u001b[39;00m, \n\u001b[1;32m     23\u001b[0m     outer_learning_rate\u001b[39m=\u001b[39mouter_learning_rate, batch_size\u001b[39m=\u001b[39mbatch_size,\n\u001b[1;32m     24\u001b[0m     encoder\u001b[39m=\u001b[39mencoder\u001b[39m.\u001b[39mInferenceNetwork(ways, max_shots, \u001b[39m'\u001b[39m\u001b[39mcifar\u001b[39m\u001b[39m'\u001b[39m, \u001b[39mFalse\u001b[39;00m, \u001b[39mFalse\u001b[39;00m, \u001b[39mFalse\u001b[39;00m))\n\u001b[1;32m     25\u001b[0m \u001b[39m# m._view_model(m._meta_parameters)\u001b[39;00m\n\u001b[0;32m---> 26\u001b[0m train_loss, train_accuracy, valid_loss, valid_accuracy \u001b[39m=\u001b[39m m\u001b[39m.\u001b[39;49mtrain(\n\u001b[1;32m     27\u001b[0m     dataloader_train\u001b[39m=\u001b[39;49mData\u001b[39m.\u001b[39;49mget_dataloader(train_class_names, max_shots, query, ways, total_train_task, batch_size, imbalance),\n\u001b[1;32m     28\u001b[0m     dataloader_valid\u001b[39m=\u001b[39;49mData\u001b[39m.\u001b[39;49mget_dataloader(valid_class_names, max_shots, query, ways, total_valid_task, batch_size, imbalance))\n\u001b[1;32m     29\u001b[0m test_loss, test_accuracy \u001b[39m=\u001b[39m m\u001b[39m.\u001b[39mtest( \n\u001b[1;32m     30\u001b[0m     dataloader_test \u001b[39m=\u001b[39mData\u001b[39m.\u001b[39mget_dataloader(test_class_names,  max_shots, query, ways, total_valid_task, batch_size, imbalance))\n\u001b[1;32m     31\u001b[0m \u001b[39m# plot results:\u001b[39;00m\n",
      "File \u001b[0;32m~/ml/LearningToBalance_pytorch/Jason_Pytorch/TAML_code.py:294\u001b[0m, in \u001b[0;36mTAML.train\u001b[0;34m(self, dataloader_train, dataloader_valid)\u001b[0m\n\u001b[1;32m    291\u001b[0m valid_accuracy_query_list \u001b[39m=\u001b[39m []\n\u001b[1;32m    292\u001b[0m \u001b[39mfor\u001b[39;00m valid_task_batch \u001b[39min\u001b[39;00m dataloader_valid:\n\u001b[1;32m    293\u001b[0m     valid_loss_batch, valid_accuracy_suppt, valid_accuracy_query \u001b[39m=\u001b[39m (\n\u001b[0;32m--> 294\u001b[0m         \u001b[39mself\u001b[39;49m\u001b[39m.\u001b[39;49m_outer_step(valid_task_batch, train\u001b[39m=\u001b[39;49m\u001b[39mFalse\u001b[39;49;00m) \u001b[39m# NO training\u001b[39;00m\n\u001b[1;32m    295\u001b[0m     )\n\u001b[1;32m    296\u001b[0m     valid_loss_list\u001b[39m.\u001b[39mappend(valid_loss_batch\u001b[39m.\u001b[39mitem())\n\u001b[1;32m    297\u001b[0m     valid_accuracy_suppt_thn_list\u001b[39m.\u001b[39mappend(valid_accuracy_suppt[\u001b[39m0\u001b[39m])\n",
      "File \u001b[0;32m~/ml/LearningToBalance_pytorch/Jason_Pytorch/TAML_code.py:235\u001b[0m, in \u001b[0;36mTAML._outer_step\u001b[0;34m(self, task_batch, train)\u001b[0m\n\u001b[1;32m    233\u001b[0m \u001b[39m\u001b[39m\u001b[39m\"\"\"encoder extracts balancing varaibles for each task\"\"\"\u001b[39;00m\n\u001b[1;32m    234\u001b[0m \u001b[39m# getting these by themselves do NOT affect .backward()\u001b[39;00m\n\u001b[0;32m--> 235\u001b[0m omega, gamma, zeta, KL \u001b[39m=\u001b[39m \u001b[39mself\u001b[39;49m\u001b[39m.\u001b[39;49mencoder(images_suppt, labels_suppt, do_sample\u001b[39m=\u001b[39;49mtrain)\n\u001b[1;32m    236\u001b[0m Cardinality_train \u001b[39m=\u001b[39m images_suppt\u001b[39m.\u001b[39mshape[\u001b[39m0\u001b[39m]\n\u001b[1;32m    237\u001b[0m Cardinality_test \u001b[39m=\u001b[39m images_query\u001b[39m.\u001b[39mshape[\u001b[39m0\u001b[39m]\n",
      "File \u001b[0;32m~/anaconda3/envs/new/lib/python3.11/site-packages/torch/nn/modules/module.py:1501\u001b[0m, in \u001b[0;36mModule._call_impl\u001b[0;34m(self, *args, **kwargs)\u001b[0m\n\u001b[1;32m   1496\u001b[0m \u001b[39m# If we don't have any hooks, we want to skip the rest of the logic in\u001b[39;00m\n\u001b[1;32m   1497\u001b[0m \u001b[39m# this function, and just call forward.\u001b[39;00m\n\u001b[1;32m   1498\u001b[0m \u001b[39mif\u001b[39;00m \u001b[39mnot\u001b[39;00m (\u001b[39mself\u001b[39m\u001b[39m.\u001b[39m_backward_hooks \u001b[39mor\u001b[39;00m \u001b[39mself\u001b[39m\u001b[39m.\u001b[39m_backward_pre_hooks \u001b[39mor\u001b[39;00m \u001b[39mself\u001b[39m\u001b[39m.\u001b[39m_forward_hooks \u001b[39mor\u001b[39;00m \u001b[39mself\u001b[39m\u001b[39m.\u001b[39m_forward_pre_hooks\n\u001b[1;32m   1499\u001b[0m         \u001b[39mor\u001b[39;00m _global_backward_pre_hooks \u001b[39mor\u001b[39;00m _global_backward_hooks\n\u001b[1;32m   1500\u001b[0m         \u001b[39mor\u001b[39;00m _global_forward_hooks \u001b[39mor\u001b[39;00m _global_forward_pre_hooks):\n\u001b[0;32m-> 1501\u001b[0m     \u001b[39mreturn\u001b[39;00m forward_call(\u001b[39m*\u001b[39;49margs, \u001b[39m*\u001b[39;49m\u001b[39m*\u001b[39;49mkwargs)\n\u001b[1;32m   1502\u001b[0m \u001b[39m# Do not call functions when jit is used\u001b[39;00m\n\u001b[1;32m   1503\u001b[0m full_backward_hooks, non_full_backward_hooks \u001b[39m=\u001b[39m [], []\n",
      "File \u001b[0;32m~/ml/LearningToBalance_pytorch/Jason_Pytorch/encoder.py:214\u001b[0m, in \u001b[0;36mInferenceNetwork.forward\u001b[0;34m(self, x, y, do_sample)\u001b[0m\n\u001b[1;32m    212\u001b[0m \u001b[39mdef\u001b[39;00m \u001b[39mforward\u001b[39m(\u001b[39mself\u001b[39m, x : torch\u001b[39m.\u001b[39mTensor, y : torch\u001b[39m.\u001b[39mTensor, do_sample : \u001b[39mbool\u001b[39m) \u001b[39m-\u001b[39m\u001b[39m>\u001b[39m \u001b[39mtuple\u001b[39m[\n\u001b[1;32m    213\u001b[0m     torch\u001b[39m.\u001b[39mTensor, \u001b[39mdict\u001b[39m[\u001b[39mstr\u001b[39m, torch\u001b[39m.\u001b[39mTensor], \u001b[39mdict\u001b[39m[\u001b[39mstr\u001b[39m, torch\u001b[39m.\u001b[39mTensor], torch\u001b[39m.\u001b[39mTensor]:\n\u001b[0;32m--> 214\u001b[0m     omega_distribution, gamma_distribution, zeta_distribution \u001b[39m=\u001b[39m \u001b[39mself\u001b[39;49m\u001b[39m.\u001b[39;49mget_posterior_distribution(x, y)\n\u001b[1;32m    215\u001b[0m     \u001b[39m# get kl divergence\u001b[39;00m\n\u001b[1;32m    216\u001b[0m     omega_KL \u001b[39m=\u001b[39m torch\u001b[39m.\u001b[39msum(KL_Diagonal_StandardNormal(omega_distribution))\n",
      "File \u001b[0;32m~/ml/LearningToBalance_pytorch/Jason_Pytorch/encoder.py:210\u001b[0m, in \u001b[0;36mInferenceNetwork.get_posterior_distribution\u001b[0;34m(self, x, y)\u001b[0m\n\u001b[1;32m    208\u001b[0m omega_distribution \u001b[39m=\u001b[39m \u001b[39mself\u001b[39m\u001b[39m.\u001b[39mget_omega(class_summary)\n\u001b[1;32m    209\u001b[0m gamma_distribution \u001b[39m=\u001b[39m \u001b[39mself\u001b[39m\u001b[39m.\u001b[39mget_gamma(task_summary)\n\u001b[0;32m--> 210\u001b[0m zeta_distribution \u001b[39m=\u001b[39m \u001b[39mself\u001b[39;49m\u001b[39m.\u001b[39;49mget_zeta(task_summary)\n\u001b[1;32m    211\u001b[0m \u001b[39mreturn\u001b[39;00m omega_distribution, gamma_distribution, zeta_distribution\n",
      "File \u001b[0;32m~/ml/LearningToBalance_pytorch/Jason_Pytorch/encoder.py:194\u001b[0m, in \u001b[0;36mInferenceNetwork.get_zeta\u001b[0;34m(self, task_summary)\u001b[0m\n\u001b[1;32m    189\u001b[0m sigma \u001b[39m=\u001b[39m torch\u001b[39m.\u001b[39msqueeze(\u001b[39mself\u001b[39m\u001b[39m.\u001b[39mnetwork_zeta_std(task_summary_embedding))\n\u001b[1;32m    190\u001b[0m \u001b[39m# print(f\"encoder get_zeta distribution:\")\u001b[39;00m\n\u001b[1;32m    191\u001b[0m \u001b[39m# print(f\"\\tembed shape {task_summary_embedding.shape}\")\u001b[39;00m\n\u001b[1;32m    192\u001b[0m \u001b[39m# print(f\"\\tmu shape    {mu.shape}\")\u001b[39;00m\n\u001b[1;32m    193\u001b[0m \u001b[39m# print(f\"\\tsigma shape {sigma.shape}\")\u001b[39;00m\n\u001b[0;32m--> 194\u001b[0m q \u001b[39m=\u001b[39m torch\u001b[39m.\u001b[39;49mdistributions\u001b[39m.\u001b[39;49mNormal(mu, torch\u001b[39m.\u001b[39;49mnn\u001b[39m.\u001b[39;49mfunctional\u001b[39m.\u001b[39;49msoftplus(sigma))\n\u001b[1;32m    195\u001b[0m \u001b[39mreturn\u001b[39;00m q\n",
      "File \u001b[0;32m~/anaconda3/envs/new/lib/python3.11/site-packages/torch/distributions/normal.py:56\u001b[0m, in \u001b[0;36mNormal.__init__\u001b[0;34m(self, loc, scale, validate_args)\u001b[0m\n\u001b[1;32m     54\u001b[0m \u001b[39melse\u001b[39;00m:\n\u001b[1;32m     55\u001b[0m     batch_shape \u001b[39m=\u001b[39m \u001b[39mself\u001b[39m\u001b[39m.\u001b[39mloc\u001b[39m.\u001b[39msize()\n\u001b[0;32m---> 56\u001b[0m \u001b[39msuper\u001b[39;49m()\u001b[39m.\u001b[39;49m\u001b[39m__init__\u001b[39;49m(batch_shape, validate_args\u001b[39m=\u001b[39;49mvalidate_args)\n",
      "File \u001b[0;32m~/anaconda3/envs/new/lib/python3.11/site-packages/torch/distributions/distribution.py:61\u001b[0m, in \u001b[0;36mDistribution.__init__\u001b[0;34m(self, batch_shape, event_shape, validate_args)\u001b[0m\n\u001b[1;32m     59\u001b[0m         value \u001b[39m=\u001b[39m \u001b[39mgetattr\u001b[39m(\u001b[39mself\u001b[39m, param)\n\u001b[1;32m     60\u001b[0m         valid \u001b[39m=\u001b[39m constraint\u001b[39m.\u001b[39mcheck(value)\n\u001b[0;32m---> 61\u001b[0m         \u001b[39mif\u001b[39;00m \u001b[39mnot\u001b[39;00m valid\u001b[39m.\u001b[39;49mall():\n\u001b[1;32m     62\u001b[0m             \u001b[39mraise\u001b[39;00m \u001b[39mValueError\u001b[39;00m(\n\u001b[1;32m     63\u001b[0m                 \u001b[39mf\u001b[39m\u001b[39m\"\u001b[39m\u001b[39mExpected parameter \u001b[39m\u001b[39m{\u001b[39;00mparam\u001b[39m}\u001b[39;00m\u001b[39m \u001b[39m\u001b[39m\"\u001b[39m\n\u001b[1;32m     64\u001b[0m                 \u001b[39mf\u001b[39m\u001b[39m\"\u001b[39m\u001b[39m(\u001b[39m\u001b[39m{\u001b[39;00m\u001b[39mtype\u001b[39m(value)\u001b[39m.\u001b[39m\u001b[39m__name__\u001b[39m\u001b[39m}\u001b[39;00m\u001b[39m of shape \u001b[39m\u001b[39m{\u001b[39;00m\u001b[39mtuple\u001b[39m(value\u001b[39m.\u001b[39mshape)\u001b[39m}\u001b[39;00m\u001b[39m) \u001b[39m\u001b[39m\"\u001b[39m\n\u001b[0;32m   (...)\u001b[0m\n\u001b[1;32m     67\u001b[0m                 \u001b[39mf\u001b[39m\u001b[39m\"\u001b[39m\u001b[39mbut found invalid values:\u001b[39m\u001b[39m\\n\u001b[39;00m\u001b[39m{\u001b[39;00mvalue\u001b[39m}\u001b[39;00m\u001b[39m\"\u001b[39m\n\u001b[1;32m     68\u001b[0m             )\n\u001b[1;32m     69\u001b[0m \u001b[39msuper\u001b[39m()\u001b[39m.\u001b[39m\u001b[39m__init__\u001b[39m()\n",
      "\u001b[0;31mKeyboardInterrupt\u001b[0m: "
     ]
    }
   ],
   "source": [
    "# def force_cudnn_initialization():\n",
    "#     s = 32\n",
    "#     dev = torch.device('cuda')\n",
    "#     torch.nn.functional.conv2d(torch.zeros(s, s, s, s, device=dev), torch.zeros(s, s, s, s, device=dev))\n",
    "# force_cudnn_initialization()\n",
    "imp.reload(TAML_code)\n",
    "imp.reload(encoder)\n",
    "number_of_inner_gradient_steps: int = 5\n",
    "ways: int = 5\n",
    "max_shots: int = 50\n",
    "query: int = 15\n",
    "iterations = 1000 # epochs\n",
    "inner_learning_rate: float = 0.5\n",
    "outer_learning_rate: float = 1e-2\n",
    "batch_size = 4 # how many tasks in this batch\n",
    "total_train_task = batch_size * iterations\n",
    "total_valid_task = batch_size * int(iterations * 0.4)\n",
    "total_test_task = 600\n",
    "imbalance = False\n",
    "m = TAML_code.TAML(output_dimension=ways, max_shots=max_shots,\n",
    "    inner_loop_step_ct=number_of_inner_gradient_steps,\n",
    "    inner_learning_rate=inner_learning_rate, learn_inner_learning_rate=True, \n",
    "    outer_learning_rate=outer_learning_rate, batch_size=batch_size,\n",
    "    encoder=encoder.InferenceNetwork(ways, max_shots, 'cifar', False, False, False))\n",
    "# m._view_model(m._meta_parameters)\n",
    "train_loss, train_accuracy, valid_loss, valid_accuracy = m.train(\n",
    "    dataloader_train=Data.get_dataloader(train_class_names, max_shots, query, ways, total_train_task, batch_size, imbalance),\n",
    "    dataloader_valid=Data.get_dataloader(valid_class_names, max_shots, query, ways, total_valid_task, batch_size, imbalance))\n",
    "test_loss, test_accuracy = m.test( \n",
    "    dataloader_test =Data.get_dataloader(test_class_names,  max_shots, query, ways, total_valid_task, batch_size, imbalance))\n",
    "# plot results:\n",
    "f, ax = plt.subplots(figsize=(8, 8), nrows=2, ncols=2)\n",
    "# plot train\n",
    "ax[0, 0].plot(train_loss)\n",
    "ax[0, 0].set_title(\"train loss\")\n",
    "ax[1, 0].plot(train_accuracy)\n",
    "ax[1, 0].set_title(\"train accuracy\")\n",
    "# plot valid\n",
    "ax[0, 1].plot(valid_loss)\n",
    "ax[0, 1].set_title(\"valid loss\")\n",
    "ax[1, 1].plot(valid_accuracy)\n",
    "ax[1, 1].set_title(\"valid accuracy\")"
   ]
  }
 ],
 "metadata": {
  "kernelspec": {
   "display_name": "new",
   "language": "python",
   "name": "python3"
  },
  "language_info": {
   "codemirror_mode": {
    "name": "ipython",
    "version": 3
   },
   "file_extension": ".py",
   "mimetype": "text/x-python",
   "name": "python",
   "nbconvert_exporter": "python",
   "pygments_lexer": "ipython3",
   "version": "3.11.3"
  }
 },
 "nbformat": 4,
 "nbformat_minor": 2
}
