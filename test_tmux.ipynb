{
 "cells": [
  {
   "cell_type": "code",
   "execution_count": null,
   "metadata": {},
   "outputs": [],
   "source": [
    "print(\"here\")\n",
    "print(\"test\")"
   ]
  },
  {
   "cell_type": "code",
   "execution_count": null,
   "metadata": {},
   "outputs": [],
   "source": [
    "import numpy as np\n",
    "a = np.asarray([1, 2, 3])\n",
    "a"
   ]
  },
  {
   "cell_type": "code",
   "execution_count": null,
   "metadata": {},
   "outputs": [],
   "source": [
    "from sklearn.model_selection import KFold\n",
    "import pickle\n",
    "import pandas as pd\n",
    "import os.path\n",
    "import numpy as np\n",
    "# path dictionary\n",
    "path_data_folder = \"5.9.23/\"\n",
    "path_dictionary = {\n",
    "    '20.7': path_data_folder + \"twentypointseven\",\n",
    "    '21.0': path_data_folder + \"twentyonepointzero_1\",\n",
    "    '21.2': path_data_folder + \"twentyonepointtwo_1\",\n",
    "    '21.5': path_data_folder + \"twentyonepointfive_1\",\n",
    "    '21.7': path_data_folder + \"TwentyonepointseevendegreeC_1\",\n",
    "    '21.8': path_data_folder + \"twentypointeight_1\"\n",
    "}\n",
    "# separator in this file is tab\n",
    "# label for entire file is the temperature\n",
    "\n",
    "\n",
    "\n",
    "frames = pd.read_csv(\"5.9.23/twentypointseven\", sep=\"\\t\", header=None)\n",
    "print(frames.shape[1])\n",
    "print(frames[9999][999].dtype) # <- pandas index is [column][row]"
   ]
  }
 ],
 "metadata": {
  "kernelspec": {
   "display_name": "base",
   "language": "python",
   "name": "python3"
  },
  "language_info": {
   "codemirror_mode": {
    "name": "ipython",
    "version": 3
   },
   "file_extension": ".py",
   "mimetype": "text/x-python",
   "name": "python",
   "nbconvert_exporter": "python",
   "pygments_lexer": "ipython3",
   "version": "3.10.9"
  },
  "orig_nbformat": 4
 },
 "nbformat": 4,
 "nbformat_minor": 2
}
