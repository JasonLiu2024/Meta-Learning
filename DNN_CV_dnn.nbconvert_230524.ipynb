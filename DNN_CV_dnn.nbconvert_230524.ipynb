{
 "cells": [
  {
   "attachments": {},
   "cell_type": "markdown",
   "id": "baa7eda3",
   "metadata": {},
   "source": [
    "# **run load_data.ipynb BEFORE running this!**"
   ]
  },
  {
   "cell_type": "code",
   "execution_count": 1,
   "id": "a5ca00eb",
   "metadata": {
    "execution": {
     "iopub.execute_input": "2023-05-23T22:22:18.388284Z",
     "iopub.status.busy": "2023-05-23T22:22:18.388116Z",
     "iopub.status.idle": "2023-05-23T22:22:18.676426Z",
     "shell.execute_reply": "2023-05-23T22:22:18.676067Z"
    }
   },
   "outputs": [
    {
     "name": "stdout",
     "output_type": "stream",
     "text": [
      "read data from data.pickle\n",
      "shape of spectrum data: (6000, 10000)\n",
      "shape of temperature data: (6000, 1)\n",
      "\n",
      "there are 6000 spectrums\n",
      "each spectrum is 10000 long, which is number of features\n"
     ]
    }
   ],
   "source": [
    "import pickle\n",
    "import os.path\n",
    "import numpy as np\n",
    "data_file_name = 'data'\n",
    "with open(data_file_name + '.pickle', 'rb') as handle:\n",
    "    spectrum, temperature = pickle.load(handle)\n",
    "    print(f\"read data from {data_file_name}.pickle\")\n",
    "print(f\"shape of spectrum data: {spectrum.shape}\")\n",
    "print(f\"shape of temperature data: {temperature.shape}\")\n",
    "print()\n",
    "print(f\"there are {temperature.shape[0]} spectrums\")\n",
    "print(f\"each spectrum is {spectrum.shape[1]} long, which is number of features\")"
   ]
  },
  {
   "cell_type": "code",
   "execution_count": 2,
   "id": "6558b411",
   "metadata": {
    "execution": {
     "iopub.execute_input": "2023-05-23T22:22:18.677876Z",
     "iopub.status.busy": "2023-05-23T22:22:18.677677Z",
     "iopub.status.idle": "2023-05-23T22:22:18.681089Z",
     "shell.execute_reply": "2023-05-23T22:22:18.680776Z"
    }
   },
   "outputs": [
    {
     "name": "stdout",
     "output_type": "stream",
     "text": [
      "got indices from cross_validation_resample=2_fold=5.pickle\n",
      "\n",
      "sets of training indices: 10\n",
      "number of training indices per set: 4800\n",
      "sets of testing indices: 10\n",
      "number of testing indices per set: 1200\n"
     ]
    }
   ],
   "source": [
    "indices_file_name = 'cross_validation_resample=2_fold=5'\n",
    "with open(indices_file_name + '.pickle', 'rb') as handle:\n",
    "    train_indices, test_indices = pickle.load(handle)\n",
    "    print(f\"got indices from {indices_file_name}.pickle\")  \n",
    "print()\n",
    "print(f\"sets of training indices: {len(train_indices)}\")\n",
    "print(f\"number of training indices per set: {len(train_indices[0])}\")\n",
    "print(f\"sets of testing indices: {len(test_indices)}\")\n",
    "print(f\"number of testing indices per set: {len(test_indices[0])}\")"
   ]
  },
  {
   "cell_type": "code",
   "execution_count": 3,
   "id": "32990e34",
   "metadata": {
    "execution": {
     "iopub.execute_input": "2023-05-23T22:22:18.682393Z",
     "iopub.status.busy": "2023-05-23T22:22:18.682175Z",
     "iopub.status.idle": "2023-05-23T22:22:18.684602Z",
     "shell.execute_reply": "2023-05-23T22:22:18.684332Z"
    }
   },
   "outputs": [
    {
     "name": "stdout",
     "output_type": "stream",
     "text": [
      "input dimension is:   10000\n",
      "number of samples is: 6000\n",
      "output dimension is:  1\n"
     ]
    }
   ],
   "source": [
    "input_dimension = spectrum.shape[1]\n",
    "print(f\"input dimension is:   {input_dimension}\")\n",
    "number_of_samples = spectrum.shape[0]\n",
    "print(f\"number of samples is: {number_of_samples}\")\n",
    "output_dimension = temperature.shape[1]\n",
    "print(f\"output dimension is:  {output_dimension}\")"
   ]
  },
  {
   "cell_type": "code",
   "execution_count": 4,
   "id": "e11a5496-4ebb-4ea9-a759-26481d1fb849",
   "metadata": {
    "execution": {
     "iopub.execute_input": "2023-05-23T22:22:18.685787Z",
     "iopub.status.busy": "2023-05-23T22:22:18.685657Z",
     "iopub.status.idle": "2023-05-23T22:22:19.665411Z",
     "shell.execute_reply": "2023-05-23T22:22:19.665001Z"
    }
   },
   "outputs": [],
   "source": [
    "# how many parameters?\n",
    "#   \"a very simple two-layer ReLU network with p = 2n + d parameters \n",
    "#   that can express any labeling of any sample of size n in d dimensions\n",
    "#   https://arxiv.org/pdf/1611.03530.pdf\n",
    "#   https://stats.stackexchange.com/questions/320383/relationship-between-\n",
    "#   model-over-fitting-and-number-of-parameters/320387#320387\n",
    "import torch\n",
    "import torch.nn as nn\n",
    "class Model(torch.nn.Module):\n",
    "    def __init__(self, device, input_dim=input_dimension):\n",
    "        super().__init__()\n",
    "        self.relu  = nn.ReLU()\n",
    "        self.hidden_dim = 32\n",
    "        self.output_dim = output_dimension\n",
    "        self.sequential = torch.nn.Sequential(\n",
    "            torch.nn.Linear(input_dim, self.hidden_dim),\n",
    "            self.relu,\n",
    "            torch.nn.Linear(self.hidden_dim, self.hidden_dim),\n",
    "            self.relu,\n",
    "            torch.nn.Linear(self.hidden_dim, self.output_dim)\n",
    "        )\n",
    "        self.device = device\n",
    "        self.to(device)\n",
    "    def forward(self, x):\n",
    "        y = self.sequential(x)\n",
    "        # change: remove sigmoid, use y result as is\n",
    "        # y = torch.sigmoid(y)\n",
    "        return y"
   ]
  },
  {
   "cell_type": "code",
   "execution_count": 5,
   "id": "17847f0f-c9ae-49a7-a84d-e6f82f5cef6f",
   "metadata": {
    "execution": {
     "iopub.execute_input": "2023-05-23T22:22:19.667544Z",
     "iopub.status.busy": "2023-05-23T22:22:19.667153Z",
     "iopub.status.idle": "2023-05-23T22:22:19.753137Z",
     "shell.execute_reply": "2023-05-23T22:22:19.752751Z"
    }
   },
   "outputs": [],
   "source": [
    "from torch.utils.data import DataLoader\n",
    "from torch import optim\n",
    "import numpy as np\n",
    "\n",
    "loss_function = nn.MSELoss()\n",
    "\n",
    "device = torch.device(\"cuda\" if torch.cuda.is_available() else \"cpu\")\n",
    "\n",
    "# return: train_loss, validation_loss, current model\n",
    "class CalculateMSE():\n",
    "    def __init__(self, net, n_epochs, batch_size, learning_rate):\n",
    "        super().__init__()\n",
    "        self.net = net\n",
    "        #initialize some constants\n",
    "        self.batch_size = batch_size\n",
    "        self.learning_rate = learning_rate\n",
    "        self.n_epochs = n_epochs\n",
    "        self.net.apply(self.weights_init)   \n",
    "    def weights_init(self,layer):\n",
    "        if type(layer) == nn.Linear:\n",
    "            nn.init.orthogonal_(layer.weight)\n",
    "    def get_mse(self,train_data, train_label, test_data, test_label):\n",
    "        train_set = torch.utils.data.TensorDataset(\n",
    "            torch.Tensor(train_data).to(device), \n",
    "            torch.Tensor(train_label).to(device))\n",
    "        val_set = torch.utils.data.TensorDataset(\n",
    "            torch.Tensor(test_data).to(device), \n",
    "            torch.Tensor(test_label).to(device))\n",
    "        loader_args = dict(batch_size=self.batch_size)\n",
    "        train_loader = DataLoader(train_set, shuffle=True, drop_last=True, \n",
    "                                  **loader_args)\n",
    "        val_loader = DataLoader(val_set, shuffle=True, drop_last=True, \n",
    "                                **loader_args)\n",
    "        train_loss = []\n",
    "        validate_loss = []\n",
    "        criterion = loss_function\n",
    "        optimizer = optim.Adam(self.net.parameters(), lr=self.learning_rate)\n",
    "        \n",
    "        for epoch in range(0, self.n_epochs):\n",
    "            # if epoch % 1000 == 0:\n",
    "            #     print(f\"epoch = {epoch}\")\n",
    "            epoch_train_loss=[]\n",
    "            for i, data in enumerate(train_loader, 0):\n",
    "                inputs, label = data\n",
    "                y_pred = self.net(inputs.to(self.net.device))\n",
    "                loss = criterion(y_pred, label.to(self.net.device))\n",
    "                optimizer.zero_grad()\n",
    "                loss.backward()\n",
    "                optimizer.step()\n",
    "                epoch_train_loss.append(loss.item())\n",
    "            train_loss.append(np.mean(epoch_train_loss))\n",
    "            # validation step: need to UN-normalize data!\n",
    "            epoch_validate_loss=[]\n",
    "\n",
    "            for i, data in enumerate(val_loader, 0):\n",
    "                with torch.no_grad():\n",
    "                    inputs_validate, label_validate = data\n",
    "                    y_pred_validate = self.net(\n",
    "                        inputs_validate.to(self.net.device))\n",
    "                    loss_validate = criterion(\n",
    "                        y_pred_validate, \n",
    "                        label_validate.to(self.net.device)) # one number\n",
    "                    epoch_validate_loss.append(loss_validate.item())\n",
    "            validate_loss.append(np.mean(epoch_validate_loss))\n",
    "        return np.min(train_loss), np.min(validate_loss), self.net"
   ]
  },
  {
   "cell_type": "code",
   "execution_count": 6,
   "id": "a6361355-4b60-4910-b158-c54bd4016da2",
   "metadata": {
    "execution": {
     "iopub.execute_input": "2023-05-23T22:22:19.754767Z",
     "iopub.status.busy": "2023-05-23T22:22:19.754637Z",
     "iopub.status.idle": "2023-05-24T00:39:33.879462Z",
     "shell.execute_reply": "2023-05-24T00:39:33.879152Z"
    }
   },
   "outputs": [
    {
     "name": "stdout",
     "output_type": "stream",
     "text": [
      "how many params we need?\n",
      "\tthere are 6000 samples with 10000 features\n",
      "\twe need just 22000 parameters\n",
      "number of parameters we have:\n",
      "\ttotal parameters: 321121\n",
      "\ttotal trainable parameters: 321121\n",
      "number of epochs: 2000, batch size: 32, device: cuda, learning rate 1e-06\n",
      "\tin each cross-validation round, I normalize the training data with sklearn scaler\n",
      "\tthen, I use the same scaler on testing data to precent data snooping\n",
      "\n",
      "training starts:\n",
      "we are on validation round no.0\n",
      "\ttraining loss:   0.0024756366627601287\n",
      "\tvalidation loss: 0.021117446289674657\n",
      "\ttime: 2023-05-23 17:46:49\n",
      "we are on validation round no.1\n",
      "\ttraining loss:   0.0031832191642994683\n",
      "\tvalidation loss: 0.018764695932937635\n",
      "\ttime: 2023-05-23 18:08:06\n",
      "we are on validation round no.2\n",
      "\ttraining loss:   0.0038658664903293053\n",
      "\tvalidation loss: 0.020107779626709385\n",
      "\ttime: 2023-05-23 18:34:14\n",
      "we are on validation round no.3\n",
      "\ttraining loss:   0.0039847012205670275\n",
      "\tvalidation loss: 0.019049227162188775\n",
      "\ttime: 2023-05-23 19:00:18\n",
      "we are on validation round no.4\n",
      "\ttraining loss:   0.0027169352925072113\n",
      "\tvalidation loss: 0.019018108000022335\n",
      "\ttime: 2023-05-23 19:11:24\n",
      "we are on validation round no.5\n",
      "\ttraining loss:   0.0028034612357926867\n",
      "\tvalidation loss: 0.021763831175662374\n",
      "\ttime: 2023-05-23 19:17:21\n",
      "we are on validation round no.6\n",
      "\ttraining loss:   0.003054351492319256\n",
      "\tvalidation loss: 0.021821437957319053\n",
      "\ttime: 2023-05-23 19:22:52\n",
      "we are on validation round no.7\n",
      "\ttraining loss:   0.0016036737225173662\n",
      "\tvalidation loss: 0.01728908937877497\n",
      "\ttime: 2023-05-23 19:28:27\n",
      "we are on validation round no.8\n",
      "\ttraining loss:   0.001741976320045069\n",
      "\tvalidation loss: 0.01432246609112701\n",
      "\ttime: 2023-05-23 19:33:59\n",
      "we are on validation round no.9\n",
      "\ttraining loss:   0.0025547279557213186\n",
      "\tvalidation loss: 0.01737523212324123\n",
      "\ttime: 2023-05-23 19:39:33\n"
     ]
    }
   ],
   "source": [
    "from pathlib import Path\n",
    "from datetime import datetime\n",
    "from sklearn.preprocessing import StandardScaler\n",
    "\n",
    "n_epochs = 2000\n",
    "batch_size = 32\n",
    "learning_rate = 1e-6\n",
    "\n",
    "PATH = 'model_dnn/'\n",
    "LOG = \"log_dnn\"\n",
    "Path(PATH).mkdir(parents=True, exist_ok=True)\n",
    "\n",
    "device = torch.device(\"cuda\" if torch.cuda.is_available() else \"cpu\")\n",
    "mdl = Model(device=device, input_dim=input_dimension)\n",
    "print(\"how many params we need?\")\n",
    "print(f\"\\tthere are {number_of_samples} samples with {input_dimension} features\")\n",
    "print(f\"\\twe need just {2 * number_of_samples + input_dimension} parameters\")\n",
    "# show number of parameters!\n",
    "print(\"number of parameters we have:\")\n",
    "total_params = sum(p.numel() for p in mdl.parameters())\n",
    "print(f\"\\ttotal parameters: {total_params}\")\n",
    "total_params_trainable = sum(p.numel() for p in mdl.parameters() if p.requires_grad)\n",
    "print(f\"\\ttotal trainable parameters: {total_params_trainable}\")\n",
    "\n",
    "train_losses = []\n",
    "validate_losses = []\n",
    "print(f\"number of epochs: {n_epochs}, batch size: {batch_size}, device: {mdl.device}, learning rate {learning_rate}\")\n",
    "print(f\"\\tin each cross-validation round, I normalize the training data with sklearn scaler\")\n",
    "print(f\"\\tthen, I use the same scaler on testing data to precent data snooping\")\n",
    "\n",
    "print()\n",
    "print(\"training starts:\")\n",
    "f = open(LOG + \".txt\", \"w\")\n",
    "f.write(\"training START: \" + datetime.now().strftime(\"%Y-%m-%d %H:%M:%S\") + \"\\n\")\n",
    "f.write(f\"number of epochs: {n_epochs}, batch size: {batch_size}, device: {device}, learning rate {learning_rate}\\n\")\n",
    "\n",
    "for cross_validation_round, (train, test) in enumerate(zip(train_indices, test_indices)):\n",
    "    print(f\"we are on validation round no.{cross_validation_round}\")\n",
    "    # use indices to extract training & testing set for current cross-validation round\n",
    "    train_data, train_label= spectrum[train], temperature[train]\n",
    "    test_data, test_label= spectrum[test], temperature[test]\n",
    "    # normalize training data, scaler normalize direction = column\n",
    "    scaler = StandardScaler()\n",
    "    scaler.fit(train_data)\n",
    "    train_data = scaler.transform(train_data)\n",
    "    # 'normalize' testing data, using transformation for training data (prevents data snooping)\n",
    "    test_data = scaler.transform(test_data)\n",
    "    mse_calculator = CalculateMSE(mdl, n_epochs, batch_size=batch_size, \n",
    "                                  learning_rate=learning_rate)\n",
    "    train_loss, validate_loss, model = mse_calculator.get_mse(\n",
    "                                        train_data, \n",
    "                                        train_label, \n",
    "                                        test_data, \n",
    "                                        test_label)\n",
    "    train_losses.append(train_loss)\n",
    "    validate_losses.append(validate_loss)\n",
    "    print(f\"\\ttraining loss:   {train_loss}\")\n",
    "    print(f\"\\tvalidation loss: {validate_loss}\")\n",
    "    print(\"\\ttime: \" + datetime.now().strftime(\"%Y-%m-%d %H:%M:%S\"))\n",
    "        \n",
    "    f.write(f\"cross-validation round = {cross_validation_round}\\n\")\n",
    "    f.write(f\"\\ttraining loss:   {train_loss}\\n\")\n",
    "    f.write(f\"\\tvalidation loss: {validate_loss}\\n\")\n",
    "    f.write(\"\\ttime: \" + datetime.now().strftime(\"%Y-%m-%d %H:%M:%S\") +\"\\n\")\n",
    "\n",
    "    torch.save(model.state_dict(), PATH + 'model_' + str(cross_validation_round) + '.pth')\n",
    "f.write(\"training END: \" + datetime.now().strftime(\"%Y-%m-%d %H:%M:%S\") + \"\\n\")\n",
    "f.close()"
   ]
  },
  {
   "cell_type": "code",
   "execution_count": 7,
   "id": "c388d3df-3754-4852-b39c-497b69f65682",
   "metadata": {
    "execution": {
     "iopub.execute_input": "2023-05-24T00:39:33.888301Z",
     "iopub.status.busy": "2023-05-24T00:39:33.887306Z",
     "iopub.status.idle": "2023-05-24T00:39:33.897290Z",
     "shell.execute_reply": "2023-05-24T00:39:33.895575Z"
    }
   },
   "outputs": [
    {
     "name": "stdout",
     "output_type": "stream",
     "text": [
      "mean validation losses: 0.019062931373765742, std: 0.002208505248363594\n"
     ]
    }
   ],
   "source": [
    "losses_mean = np.mean(validate_losses)\n",
    "losses_std = np.std(validate_losses)\n",
    "print(f\"mean validation losses: {losses_mean}, std: {losses_std}\")"
   ]
  },
  {
   "cell_type": "code",
   "execution_count": 8,
   "id": "50809583",
   "metadata": {
    "collapsed": true,
    "execution": {
     "iopub.execute_input": "2023-05-24T00:39:33.902111Z",
     "iopub.status.busy": "2023-05-24T00:39:33.898882Z",
     "iopub.status.idle": "2023-05-24T00:39:34.482962Z",
     "shell.execute_reply": "2023-05-24T00:39:34.477942Z"
    },
    "jupyter": {
     "outputs_hidden": true
    },
    "tags": []
   },
   "outputs": [
    {
     "name": "stdout",
     "output_type": "stream",
     "text": [
      "we use 159th example\n",
      "-----------------------------------------------------\n",
      "\tthe prediction is: 24.31614112854004\n",
      "\tthe ground truth is: 21.7\n",
      "\tthe difference is: 2.6161411285400398\n",
      "we use 1228th example\n",
      "-----------------------------------------------------\n",
      "\tthe prediction is: 24.2984561920166\n",
      "\tthe ground truth is: 21.2\n",
      "\tthe difference is: 3.0984561920166023\n",
      "we use 2818th example\n",
      "-----------------------------------------------------\n",
      "\tthe prediction is: 19.420440673828125\n",
      "\tthe ground truth is: 21.8\n",
      "\tthe difference is: -2.3795593261718757\n",
      "we use 3209th example\n",
      "-----------------------------------------------------\n",
      "\tthe prediction is: 19.346473693847656\n",
      "\tthe ground truth is: 21.8\n",
      "\tthe difference is: -2.4535263061523445\n",
      "we use 3404th example\n",
      "-----------------------------------------------------\n",
      "\tthe prediction is: 24.218372344970703\n",
      "\tthe ground truth is: 21.2\n",
      "\tthe difference is: 3.018372344970704\n",
      "we use 3664th example\n",
      "-----------------------------------------------------\n",
      "\tthe prediction is: 20.880931854248047\n",
      "\tthe ground truth is: 21.0\n",
      "\tthe difference is: -0.11906814575195312\n",
      "we use 4524th example\n",
      "-----------------------------------------------------\n",
      "\tthe prediction is: 24.309114456176758\n",
      "\tthe ground truth is: 21.2\n",
      "\tthe difference is: 3.1091144561767585\n",
      "we use 5356th example\n",
      "-----------------------------------------------------\n",
      "\tthe prediction is: 24.288740158081055\n",
      "\tthe ground truth is: 21.2\n",
      "\tthe difference is: 3.0887401580810554\n",
      "we use 5452th example\n",
      "-----------------------------------------------------\n",
      "\tthe prediction is: 23.0513858795166\n",
      "\tthe ground truth is: 21.5\n",
      "\tthe difference is: 1.5513858795166016\n",
      "we use 5876th example\n",
      "-----------------------------------------------------\n",
      "\tthe prediction is: 24.281404495239258\n",
      "\tthe ground truth is: 21.2\n",
      "\tthe difference is: 3.0814044952392585\n"
     ]
    }
   ],
   "source": [
    "number_figures = 10\n",
    "import matplotlib.pyplot as plt\n",
    "\n",
    "indices = torch.randint(0, len(spectrum),(number_figures,)).unique()\n",
    "for i in indices:\n",
    "    print(f\"we use {i}th example\")\n",
    "    # change: cast i to int, since pandas not work with torch.int64\n",
    "    # changed: removed figure, since the output is just one number\n",
    "    spec = np.asarray(spectrum[int(i)]).flatten()\n",
    "    temp = np.asarray(temperature[int(i)]).flatten()\n",
    "\n",
    "    prediction = model(torch.Tensor(np.asarray(spectrum[int(i)])).to(model.device)).detach().cpu().flatten()\n",
    "    \n",
    "    prediction = prediction.item()\n",
    "    ground_truth = temp.item()\n",
    "    # recover data from normalization\n",
    "    print(f\"-----------------------------------------------------\")\n",
    "    print(f\"\\tthe prediction is: {prediction}\")\n",
    "    print(f\"\\tthe ground truth is: {ground_truth}\")\n",
    "    print(f\"\\tthe difference is: {prediction - ground_truth}\")\n"
   ]
  },
  {
   "attachments": {},
   "cell_type": "markdown",
   "id": "37ccb386",
   "metadata": {},
   "source": [
    "# **skip cell 14 for now (it's in template file!)**"
   ]
  }
 ],
 "metadata": {
  "kernelspec": {
   "display_name": "Python 3 (ipykernel)",
   "language": "python",
   "name": "python3"
  },
  "language_info": {
   "codemirror_mode": {
    "name": "ipython",
    "version": 3
   },
   "file_extension": ".py",
   "mimetype": "text/x-python",
   "name": "python",
   "nbconvert_exporter": "python",
   "pygments_lexer": "ipython3",
   "version": "3.11.3"
  }
 },
 "nbformat": 4,
 "nbformat_minor": 5
}
