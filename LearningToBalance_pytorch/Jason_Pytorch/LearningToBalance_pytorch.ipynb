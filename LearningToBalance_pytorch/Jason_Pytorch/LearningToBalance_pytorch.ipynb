{
 "cells": [
  {
   "cell_type": "code",
   "execution_count": 1,
   "metadata": {},
   "outputs": [],
   "source": [
    "%load_ext autoreload\n",
    "%autoreload complete"
   ]
  },
  {
   "cell_type": "code",
   "execution_count": 2,
   "metadata": {},
   "outputs": [],
   "source": [
    "import importlib as imp"
   ]
  },
  {
   "cell_type": "code",
   "execution_count": 23,
   "metadata": {},
   "outputs": [
    {
     "name": "stdout",
     "output_type": "stream",
     "text": [
      "batch of images: torch.Size([7, 32, 32, 3])\n",
      "batch of labels: torch.Size([7, 1, 1])\n"
     ]
    }
   ],
   "source": [
    "import torch\n",
    "\n",
    "number_of_images = 7\n",
    "batch_of_images_list = []\n",
    "for ct in range(number_of_images):\n",
    "    image = torch.randint(0, 255, (32, 32, 3))\n",
    "    batch_of_images_list.append(image)\n",
    "batch_of_images = torch.stack(batch_of_images_list)\n",
    "print(f\"batch of images: {batch_of_images.size()}\")\n",
    "batch_of_labels = torch.stack([torch.randint(0, 24, (1, 1)) for i in range(number_of_images)])\n",
    "print(f\"batch of labels: {batch_of_labels.size()}\")"
   ]
  },
  {
   "cell_type": "code",
   "execution_count": 22,
   "metadata": {},
   "outputs": [
    {
     "name": "stdout",
     "output_type": "stream",
     "text": [
      "torch.Size([2, 3])\n",
      "torch.Size([2])\n",
      "torch.Size([2])\n"
     ]
    }
   ],
   "source": [
    "a = torch.Tensor([\n",
    "    [1, 2, 3],\n",
    "    [4, 5, 6]\n",
    "])\n",
    "var, mean = torch.var_mean(a, dim=1)\n",
    "print(a.size())\n",
    "print(var.size())\n",
    "print(mean.size())"
   ]
  },
  {
   "cell_type": "code",
   "execution_count": 7,
   "metadata": {},
   "outputs": [
    {
     "name": "stdout",
     "output_type": "stream",
     "text": [
      "tf.Tensor(\n",
      "[[1 2 3]\n",
      " [4 5 6]], shape=(2, 3), dtype=int32)\n",
      "tf.Tensor([2 2 2], shape=(3,), dtype=int32)\n",
      "tf.Tensor([2 3 4], shape=(3,), dtype=int32)\n"
     ]
    }
   ],
   "source": [
    "import tensorflow as tf\n",
    "a_t = tf.constant([\n",
    "    [1, 2, 3],\n",
    "    [4, 5, 6]\n",
    "])\n",
    "mean_t, var_t = tf.nn.moments(x=a_t, axes=0)\n",
    "print(a_t)\n",
    "print(var_t)\n",
    "print(mean_t)"
   ]
  },
  {
   "cell_type": "code",
   "execution_count": 24,
   "metadata": {},
   "outputs": [
    {
     "name": "stdout",
     "output_type": "stream",
     "text": [
      "omega: torch.Size([3]), corresponding to ways: 3\n",
      "gamma: \n",
      "\tconvolution1_weight: torch.Size([1])\n",
      "\tconvolution1_bias: torch.Size([1])\n",
      "\tconvolution2_weight: torch.Size([1])\n",
      "\tconvolution2_bias: torch.Size([1])\n",
      "\tconvolution3_weight: torch.Size([1])\n",
      "\tconvolution3_bias: torch.Size([1])\n",
      "\tconvolution4_weight: torch.Size([1])\n",
      "\tconvolution4_bias: torch.Size([1])\n",
      "\tdense_weight: torch.Size([1])\n",
      "\tdense_bias: torch.Size([1])\n",
      "zeta: \n",
      "\tconvolution1_weight: torch.Size([32])\n",
      "\tconvolution1_bias: torch.Size([32])\n",
      "\tconvolution2_weight: torch.Size([32])\n",
      "\tconvolution2_bias: torch.Size([32])\n",
      "\tconvolution3_weight: torch.Size([32])\n",
      "\tconvolution3_bias: torch.Size([32])\n",
      "\tconvolution4_weight: torch.Size([32])\n",
      "\tconvolution4_bias: torch.Size([32])\n",
      "KL: 3075.778564453125\n"
     ]
    }
   ],
   "source": [
    "import encoder\n",
    "imp.reload(encoder)\n",
    "ways = 3\n",
    "shots = 5\n",
    "model = encoder.InferenceNetwork(ways=ways, shots=shots, data_name='cifar',\n",
    "                         need_g=True, need_o=True, need_s=True, need_z=True)\n",
    "omega, gamma, zeta, KL = model(batch_of_images.float(), batch_of_labels.float(), True)\n",
    "print(f\"omega: {omega.size()}, corresponding to ways: {ways}\")\n",
    "print(f\"gamma: \")\n",
    "for key in gamma.keys():\n",
    "    print(f\"\\t{key}: {gamma[key].size()}\")\n",
    "print(f\"zeta: \")\n",
    "for key in zeta.keys():\n",
    "    print(f\"\\t{key}: {zeta[key].size()}\")\n",
    "print(f\"KL: {KL}\")"
   ]
  }
 ],
 "metadata": {
  "kernelspec": {
   "display_name": "new",
   "language": "python",
   "name": "python3"
  },
  "language_info": {
   "codemirror_mode": {
    "name": "ipython",
    "version": 3
   },
   "file_extension": ".py",
   "mimetype": "text/x-python",
   "name": "python",
   "nbconvert_exporter": "python",
   "pygments_lexer": "ipython3",
   "version": "3.11.3"
  },
  "orig_nbformat": 4
 },
 "nbformat": 4,
 "nbformat_minor": 2
}
