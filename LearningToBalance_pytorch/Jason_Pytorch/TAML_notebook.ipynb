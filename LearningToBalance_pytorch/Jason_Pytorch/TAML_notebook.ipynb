{
 "cells": [
  {
   "cell_type": "markdown",
   "metadata": {},
   "source": [
    "### <b> Task-Adaptive Meta Learning algorithm (TAML) </b>"
   ]
  },
  {
   "cell_type": "code",
   "execution_count": 44,
   "metadata": {},
   "outputs": [],
   "source": [
    "\"\"\"setup information\"\"\"\n",
    "import torch\n",
    "import matplotlib.pyplot as plt\n",
    "import TAML_code\n",
    "import Data\n",
    "import importlib as imp\n",
    "import numpy as np\n",
    "import encoder\n",
    "\"\"\"dataset split as specified by the authors\"\"\"\n",
    "train_class_names = [\n",
    "    'train', 'skyscraper', 'turtle', 'raccoon', 'spider', 'orange', 'castle', 'keyboard',\n",
    "    'clock', 'pear', 'girl', 'seal', 'elephant', 'apple', 'aquarium_fish', 'bus',\n",
    "    'mushroom', 'possum', 'squirrel', 'chair', 'tank', 'plate', 'wolf', 'road', 'mouse',\n",
    "    'boy', 'shrew', 'couch', 'sunflower', 'tiger', 'caterpillar', 'lion', 'streetcar',\n",
    "    'lawn_mower', 'tulip', 'forest', 'dolphin', 'cockroach', 'bear', 'porcupine', 'bee',\n",
    "    'hamster', 'lobster', 'bowl', 'can', 'bottle', 'trout', 'snake', 'bridge',\n",
    "    'pine_tree', 'skunk', 'lizard', 'cup', 'kangaroo', 'oak_tree', 'dinosaur', 'rabbit',\n",
    "    'orchid', 'willow_tree', 'ray', 'palm_tree', 'mountain', 'house', 'cloud'\n",
    "    ]\n",
    "valid_class_names = [\n",
    "    'otter', 'motorcycle', 'television', 'lamp', 'crocodile', 'shark', 'butterfly', 'sea',\n",
    "    'beaver', 'beetle', 'tractor', 'flatfish', 'maple_tree', 'camel', 'crab', 'cattle'\n",
    "    ]\n",
    "test_class_names = [\n",
    "    'baby', 'bed', 'bicycle', 'chimpanzee', 'fox', 'leopard', 'man', 'pickup_truck',\n",
    "    'plain', 'poppy', 'rocket', 'rose', 'snail', 'sweet_pepper', 'table', 'telephone',\n",
    "    'wardrobe', 'whale', 'woman', 'worm'\n",
    "    ]"
   ]
  },
  {
   "cell_type": "code",
   "execution_count": null,
   "metadata": {},
   "outputs": [],
   "source": [
    "def force_cudnn_initialization():\n",
    "    s = 32\n",
    "    dev = torch.device('cuda')\n",
    "    torch.nn.functional.conv2d(torch.zeros(s, s, s, s, device=dev), torch.zeros(s, s, s, s, device=dev))\n",
    "force_cudnn_initialization()\n",
    "imp.reload(TAML_code)\n",
    "imp.reload(encoder)\n",
    "number_of_inner_gradient_steps: int = 5\n",
    "ways: int = 5\n",
    "max_shots: int = 50\n",
    "query: int = 15\n",
    "iterations = 1000 # epochs\n",
    "inner_learning_rate: float = 0.5\n",
    "outer_learning_rate: float = 1e-2\n",
    "batch_size = 4 # how many tasks in this batch\n",
    "total_train_task = batch_size * iterations\n",
    "total_valid_task = batch_size * int(iterations * 0.16)\n",
    "total_test_task = 600\n",
    "m = TAML_code.TAML(output_dimension=ways, max_shots=max_shots,\n",
    "    inner_loop_step_ct=number_of_inner_gradient_steps,\n",
    "    inner_learning_rate=inner_learning_rate, learn_inner_learning_rate=True, \n",
    "    outer_learning_rate=outer_learning_rate, batch_size=batch_size,\n",
    "    encoder=encoder.InferenceNetwork(ways, max_shots, 'cifar', True, True, True))\n",
    "# m._view_model(m._meta_parameters)\n",
    "train_loss, train_accuracy, valid_loss, valid_accuracy = m.train(\n",
    "    dataloader_train=Data.get_dataloader(train_class_names, max_shots, query, ways, total_train_task, batch_size),\n",
    "    dataloader_valid=Data.get_dataloader(valid_class_names, max_shots, query, ways, total_valid_task, batch_size))\n",
    "test_loss, test_accuracy = m.test( \n",
    "    dataloader_test =Data.get_dataloader(test_class_names,  max_shots, query, ways, total_valid_task, batch_size))\n",
    "# plot results:\n",
    "f, ax = plt.subplots(figsize=(8, 8), nrows=2, ncols=2)\n",
    "# plot train\n",
    "ax[0, 0].plot(train_loss)\n",
    "ax[0, 0].set_title(\"train loss\")\n",
    "ax[1, 0].plot(train_accuracy)\n",
    "ax[1, 0].set_title(\"train accuracy\")\n",
    "# plot valid\n",
    "ax[0, 1].plot(valid_loss)\n",
    "ax[0, 1].set_title(\"valid loss\")\n",
    "ax[1, 1].plot(valid_accuracy)\n",
    "ax[1, 1].set_title(\"valid accuracy\")"
   ]
  }
 ],
 "metadata": {
  "kernelspec": {
   "display_name": "new",
   "language": "python",
   "name": "python3"
  },
  "language_info": {
   "codemirror_mode": {
    "name": "ipython",
    "version": 3
   },
   "file_extension": ".py",
   "mimetype": "text/x-python",
   "name": "python",
   "nbconvert_exporter": "python",
   "pygments_lexer": "ipython3",
   "version": "3.11.3"
  },
  "orig_nbformat": 4
 },
 "nbformat": 4,
 "nbformat_minor": 2
}
