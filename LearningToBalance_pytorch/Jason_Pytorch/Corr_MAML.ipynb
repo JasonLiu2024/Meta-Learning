{
 "cells": [
  {
   "cell_type": "markdown",
   "metadata": {},
   "source": [
    "### <b> CORRECT MAML code </b>"
   ]
  },
  {
   "cell_type": "code",
   "execution_count": 1,
   "metadata": {},
   "outputs": [
    {
     "name": "stderr",
     "output_type": "stream",
     "text": [
      "2023-09-22 12:42:24.539867: I tensorflow/core/platform/cpu_feature_guard.cc:182] This TensorFlow binary is optimized to use available CPU instructions in performance-critical operations.\n",
      "To enable the following instructions: SSE4.1 SSE4.2 AVX AVX2 FMA, in other operations, rebuild TensorFlow with the appropriate compiler flags.\n"
     ]
    }
   ],
   "source": [
    "import torch\n",
    "import matplotlib.pyplot as plt\n",
    "import MAMLc\n",
    "import Data\n",
    "import importlib as imp\n",
    "train_class_names = [\n",
    "    'train', 'skyscraper', 'turtle', 'raccoon', 'spider', 'orange', 'castle', 'keyboard',\n",
    "    'clock', 'pear', 'girl', 'seal', 'elephant', 'apple', 'aquarium_fish', 'bus',\n",
    "    'mushroom', 'possum', 'squirrel', 'chair', 'tank', 'plate', 'wolf', 'road', 'mouse',\n",
    "    'boy', 'shrew', 'couch', 'sunflower', 'tiger', 'caterpillar', 'lion', 'streetcar',\n",
    "    'lawn_mower', 'tulip', 'forest', 'dolphin', 'cockroach', 'bear', 'porcupine', 'bee',\n",
    "    'hamster', 'lobster', 'bowl', 'can', 'bottle', 'trout', 'snake', 'bridge',\n",
    "    'pine_tree', 'skunk', 'lizard', 'cup', 'kangaroo', 'oak_tree', 'dinosaur', 'rabbit',\n",
    "    'orchid', 'willow_tree', 'ray', 'palm_tree', 'mountain', 'house', 'cloud'\n",
    "    ]\n",
    "valid_class_names = [\n",
    "    'otter', 'motorcycle', 'television', 'lamp', 'crocodile', 'shark', 'butterfly', 'sea',\n",
    "    'beaver', 'beetle', 'tractor', 'flatfish', 'maple_tree', 'camel', 'crab', 'cattle'\n",
    "    ]"
   ]
  },
  {
   "cell_type": "code",
   "execution_count": 3,
   "metadata": {},
   "outputs": [
    {
     "name": "stdout",
     "output_type": "stream",
     "text": [
      "Starting training at iteration 0.\n",
      "images_support torch.Size([100, 3, 32, 32])\n",
      "images_support torch.Size([100, 3, 32, 32])\n",
      "images_support torch.Size([100, 3, 32, 32])\n",
      "images_support torch.Size([100, 3, 32, 32])\n",
      "Iteration 0: loss: 1.801, pre-adaptation support accuracy: 0.700, post-adaptation support accuracy: 0.700, post-adaptation query accuracy: 0.200\n",
      "images_support torch.Size([100, 3, 32, 32])\n",
      "images_support torch.Size([100, 3, 32, 32])\n",
      "images_support torch.Size([100, 3, 32, 32])\n",
      "images_support torch.Size([100, 3, 32, 32])\n",
      "Validation: loss: 2.023, pre-adaptation support accuracy: 0.102, post-adaptation support accuracy: 0.215, post-adaptation query accuracy: 0.250\n",
      "images_support torch.Size([100, 3, 32, 32])\n",
      "images_support torch.Size([100, 3, 32, 32])\n",
      "images_support torch.Size([100, 3, 32, 32])\n",
      "images_support torch.Size([100, 3, 32, 32])\n",
      "images_support torch.Size([100, 3, 32, 32])\n",
      "images_support torch.Size([100, 3, 32, 32])\n",
      "images_support torch.Size([100, 3, 32, 32])\n",
      "images_support torch.Size([100, 3, 32, 32])\n"
     ]
    }
   ],
   "source": [
    "imp.reload(MAMLc)\n",
    "number_of_inner_gradient_steps: int = 5\n",
    "ways: int = 5\n",
    "shots: int = 20\n",
    "query: int = 7\n",
    "total_train_task = 12\n",
    "total_valid_task = 4\n",
    "total_test_task = 4\n",
    "inner_learning_rate: float = 1e-5\n",
    "outer_learning_rate: float = 1e-2\n",
    "batch_size = 4\n",
    "m = MAMLc.MAML(num_outputs=ways, num_inner_steps=number_of_inner_gradient_steps,\n",
    "              inner_lr = inner_learning_rate, learn_inner_lrs=True, outer_lr=outer_learning_rate, batch_size=batch_size)\n",
    "m.train(dataloader_train=Data.get_dataloader(train_class_names, shots, query, ways, total_train_task, batch_size),\n",
    "        dataloader_val=Data.get_dataloader(valid_class_names, shots, query, ways, total_valid_task, batch_size))"
   ]
  }
 ],
 "metadata": {
  "kernelspec": {
   "display_name": "new",
   "language": "python",
   "name": "python3"
  },
  "language_info": {
   "codemirror_mode": {
    "name": "ipython",
    "version": 3
   },
   "file_extension": ".py",
   "mimetype": "text/x-python",
   "name": "python",
   "nbconvert_exporter": "python",
   "pygments_lexer": "ipython3",
   "version": "3.11.3"
  },
  "orig_nbformat": 4
 },
 "nbformat": 4,
 "nbformat_minor": 2
}
