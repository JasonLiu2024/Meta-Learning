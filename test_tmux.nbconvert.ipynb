{
 "cells": [
  {
   "cell_type": "code",
   "execution_count": 1,
   "metadata": {
    "execution": {
     "iopub.execute_input": "2023-05-18T12:37:44.387620Z",
     "iopub.status.busy": "2023-05-18T12:37:44.387395Z",
     "iopub.status.idle": "2023-05-18T12:37:44.394689Z",
     "shell.execute_reply": "2023-05-18T12:37:44.394459Z"
    }
   },
   "outputs": [
    {
     "name": "stdout",
     "output_type": "stream",
     "text": [
      "here\n",
      "test\n"
     ]
    }
   ],
   "source": [
    "print(\"here\")\n",
    "print(\"test\")"
   ]
  },
  {
   "cell_type": "code",
   "execution_count": 2,
   "metadata": {
    "execution": {
     "iopub.execute_input": "2023-05-18T12:37:44.412120Z",
     "iopub.status.busy": "2023-05-18T12:37:44.411899Z",
     "iopub.status.idle": "2023-05-18T12:37:44.450002Z",
     "shell.execute_reply": "2023-05-18T12:37:44.449763Z"
    }
   },
   "outputs": [
    {
     "data": {
      "text/plain": [
       "array([1, 2, 3])"
      ]
     },
     "execution_count": 2,
     "metadata": {},
     "output_type": "execute_result"
    }
   ],
   "source": [
    "import numpy as np\n",
    "a = np.asarray([1, 2, 3])\n",
    "a"
   ]
  },
  {
   "cell_type": "code",
   "execution_count": 3,
   "metadata": {
    "execution": {
     "iopub.execute_input": "2023-05-18T12:37:44.451657Z",
     "iopub.status.busy": "2023-05-18T12:37:44.451432Z",
     "iopub.status.idle": "2023-05-18T12:37:45.969407Z",
     "shell.execute_reply": "2023-05-18T12:37:45.969068Z"
    }
   },
   "outputs": [
    {
     "name": "stdout",
     "output_type": "stream",
     "text": [
      "10000\n",
      "float64\n"
     ]
    }
   ],
   "source": [
    "from sklearn.model_selection import KFold\n",
    "import pickle\n",
    "import pandas as pd\n",
    "import os.path\n",
    "import numpy as np\n",
    "# path dictionary\n",
    "path_data_folder = \"5.9.23/\"\n",
    "path_dictionary = {\n",
    "    '20.7': path_data_folder + \"twentypointseven\",\n",
    "    '21.0': path_data_folder + \"twentyonepointzero_1\",\n",
    "    '21.2': path_data_folder + \"twentyonepointtwo_1\",\n",
    "    '21.5': path_data_folder + \"twentyonepointfive_1\",\n",
    "    '21.7': path_data_folder + \"TwentyonepointseevendegreeC_1\",\n",
    "    '21.8': path_data_folder + \"twentypointeight_1\"\n",
    "}\n",
    "# separator in this file is tab\n",
    "# label for entire file is the temperature\n",
    "\n",
    "\n",
    "\n",
    "frames = pd.read_csv(\"5.9.23/twentypointseven\", sep=\"\\t\", header=None)\n",
    "print(frames.shape[1])\n",
    "print(frames[9999][999].dtype) # <- pandas index is [column][row]"
   ]
  }
 ],
 "metadata": {
  "kernelspec": {
   "display_name": "base",
   "language": "python",
   "name": "python3"
  },
  "language_info": {
   "codemirror_mode": {
    "name": "ipython",
    "version": 3
   },
   "file_extension": ".py",
   "mimetype": "text/x-python",
   "name": "python",
   "nbconvert_exporter": "python",
   "pygments_lexer": "ipython3",
   "version": "3.11.3"
  }
 },
 "nbformat": 4,
 "nbformat_minor": 2
}
